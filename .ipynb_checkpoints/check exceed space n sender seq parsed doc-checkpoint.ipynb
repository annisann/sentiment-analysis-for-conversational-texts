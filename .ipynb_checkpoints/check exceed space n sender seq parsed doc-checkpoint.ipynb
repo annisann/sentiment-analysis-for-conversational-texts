{
 "cells": [
  {
   "cell_type": "code",
   "execution_count": 1,
   "id": "external-hunger",
   "metadata": {},
   "outputs": [],
   "source": [
    "import os\n",
    "import numpy as np"
   ]
  },
  {
   "cell_type": "code",
   "execution_count": 2,
   "id": "cloudy-average",
   "metadata": {},
   "outputs": [],
   "source": [
    "parent_path = os.getcwd() + '\\parsed doc\\\\'"
   ]
  },
  {
   "cell_type": "markdown",
   "id": "hairy-columbus",
   "metadata": {},
   "source": [
    "## for session that not using ( | ) format"
   ]
  },
  {
   "cell_type": "markdown",
   "id": "crude-gathering",
   "metadata": {},
   "source": [
    "#### check exceed new line (\\n) in message each chat each session"
   ]
  },
  {
   "cell_type": "code",
   "execution_count": 7,
   "id": "specific-antigua",
   "metadata": {},
   "outputs": [
    {
     "name": "stdout",
     "output_type": "stream",
     "text": [
      "all chats all sessions already have same format (using |)\n"
     ]
    }
   ],
   "source": [
    "folder = [folder_name for folder_name in os.listdir(parent_path) if folder_name != '.ipynb_checkpoints']\n",
    "exceeded_new_line = list()\n",
    "for each_folder in folder:\n",
    "    each_folder_path = parent_path + each_folder + '\\\\'\n",
    "    session_list = [session for session in os.listdir(each_folder_path) if session != '.ipynb_checkpoints']\n",
    "    for session in session_list:\n",
    "        f = open(each_folder_path + session, 'r', encoding='utf8') ##use utf-8 so it can read unicode format\n",
    "        chat_list = f.read().split('\\n')\n",
    "        f.close()\n",
    "        #check exceed new line\n",
    "        for index, chat in enumerate(chat_list):\n",
    "            sentiment_per_chat = chat.split('|')[-1]\n",
    "            try:\n",
    "                x = int(sentiment_per_chat)\n",
    "            except:\n",
    "                print(f'{each_folder}, {session}, {index}')\n",
    "                if each_folder not in exceeded_new_line:\n",
    "                    exceeded_new_line.append(each_folder)\n",
    "if not exceeded_new_line:\n",
    "    print('all chats all sessions already have same format (using |)')\n",
    "else:\n",
    "    print(exceeded_new_line)"
   ]
  },
  {
   "cell_type": "markdown",
   "id": "endangered-washer",
   "metadata": {},
   "source": [
    "#### check exceed new line in not formatted chat message"
   ]
  },
  {
   "cell_type": "code",
   "execution_count": null,
   "id": "equivalent-suicide",
   "metadata": {},
   "outputs": [],
   "source": [
    "exceeded_new_line_2 = list()\n",
    "for folder in exceeded_new_line:\n",
    "    folder_path = parent_path + folder + '\\\\'\n",
    "    session_list = [session for session in os.listdir(folder_path) if session != '.ipynb_checkpoints']\n",
    "    for session in session_list:\n",
    "        f = open(folder_path + session, 'r', encoding='utf8') ##use utf-8 so it can read unicode format\n",
    "        chat_list = f.read().split('\\n')\n",
    "        f.close()\n",
    "        for index, chat in enumerate(chat_list):\n",
    "            if (index+1) % 3 == 0:\n",
    "                sentiment_per_chat = chat\n",
    "                try:\n",
    "                    int(sentiment_per_chat)\n",
    "                except:\n",
    "                    exceeded_new_line_2.append([folder, session, index])\n",
    "if not exceeded_new_line_2:\n",
    "    print('there is no exceeded new line in not formatted chat message')\n",
    "else:\n",
    "    print(np.array(exceeded_new_line_2))"
   ]
  },
  {
   "cell_type": "markdown",
   "id": "synthetic-addiction",
   "metadata": {},
   "source": [
    "#### adjust exceeded_new_line_2 using ( | )"
   ]
  },
  {
   "cell_type": "code",
   "execution_count": null,
   "id": "distinguished-keyboard",
   "metadata": {},
   "outputs": [],
   "source": [
    "result = list()\n",
    "for folder in exceeded_new_line:\n",
    "    result_each = list()\n",
    "    folder_path = parent_path + folder + '\\\\'\n",
    "    session_list = [session for session in os.listdir(folder_path) if session != '.ipynb_checkpoints']\n",
    "    for session in session_list:\n",
    "        f = open(folder_path + session, 'r', encoding='utf8') #use utf-8 so it can read unicode format string\n",
    "        chat_list = f.read().split('\\n')\n",
    "        f.close()\n",
    "        result_each_session = \"\"\n",
    "        for index, chat in enumerate(chat_list):\n",
    "            if (index+1) % 3 == 0:\n",
    "                result_each_session += f'{chat_list[index-2]}|{chat_list[index-1]}|{chat}\\n'\n",
    "        result_each.append(result_each_session)\n",
    "    result.append(result_each)"
   ]
  },
  {
   "cell_type": "markdown",
   "id": "ordinary-teddy",
   "metadata": {},
   "source": [
    "#### write it into new txt file"
   ]
  },
  {
   "cell_type": "code",
   "execution_count": null,
   "id": "stylish-founder",
   "metadata": {},
   "outputs": [],
   "source": [
    "for index1, result_each in enumerate(result):\n",
    "    folder_name = f'parsed doc new/{exceeded_new_line[index1]}'\n",
    "    os.makedirs(os.path.join(os.getcwd(), folder_name))\n",
    "    for index2, result_each_session in enumerate(result_each):\n",
    "        f = open(f'{folder_name}/sesi{index2}.txt', 'w', encoding='utf8')\n",
    "        f.write(result_each_session)\n",
    "        f.close()"
   ]
  },
  {
   "cell_type": "markdown",
   "id": "social-newman",
   "metadata": {},
   "source": [
    "## check sender sequence"
   ]
  },
  {
   "cell_type": "code",
   "execution_count": 9,
   "id": "characteristic-england",
   "metadata": {},
   "outputs": [],
   "source": [
    "def is_sender_seq_false(sender_list):\n",
    "    temp = sender_list[0]\n",
    "    result = False\n",
    "    index = list()\n",
    "    for i, sender in enumerate(sender_list):\n",
    "        if i != 0:\n",
    "            if sender == temp: \n",
    "                result = True; \n",
    "                index.append(i);\n",
    "            temp = sender\n",
    "    return result, index"
   ]
  },
  {
   "cell_type": "code",
   "execution_count": 11,
   "id": "intellectual-entertainment",
   "metadata": {},
   "outputs": [
    {
     "name": "stdout",
     "output_type": "stream",
     "text": [
      "all sender sequence are correct!\n"
     ]
    }
   ],
   "source": [
    "parent_path_new = os.getcwd() + '\\parsed doc\\\\'\n",
    "folder = [folder_name for folder_name in os.listdir(parent_path_new) if folder_name != '.ipynb_checkpoints']\n",
    "false_sender_seq = list()\n",
    "for each_folder in folder:\n",
    "    each_folder_path = parent_path_new + each_folder + '\\\\'\n",
    "    session_list = [session for session in os.listdir(each_folder_path) if session != '.ipynb_checkpoints']\n",
    "    for session in session_list:\n",
    "        f = open(each_folder_path + session, 'r', encoding='utf8') ##use utf-8 for reading unicode format\n",
    "        chat_list = f.read().split('\\n')\n",
    "        f.close()\n",
    "        sender = [chat.split('|')[0] for chat in chat_list]\n",
    "        result, index = is_sender_seq_false(sender)\n",
    "        if result:\n",
    "            false_sender_seq.append(f'{each_folder}, {session}, {index}')\n",
    "if not false_sender_seq:\n",
    "    print('all sender sequence are correct!')\n",
    "else:\n",
    "    print(np.array(false_sender_seq))"
   ]
  }
 ],
 "metadata": {
  "kernelspec": {
   "display_name": "Python 3",
   "language": "python",
   "name": "python3"
  },
  "language_info": {
   "codemirror_mode": {
    "name": "ipython",
    "version": 3
   },
   "file_extension": ".py",
   "mimetype": "text/x-python",
   "name": "python",
   "nbconvert_exporter": "python",
   "pygments_lexer": "ipython3",
   "version": "3.8.7"
  }
 },
 "nbformat": 4,
 "nbformat_minor": 5
}
