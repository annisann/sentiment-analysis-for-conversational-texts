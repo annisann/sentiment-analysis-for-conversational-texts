{
 "cells": [
  {
   "cell_type": "code",
   "execution_count": 1,
   "id": "lovely-accuracy",
   "metadata": {},
   "outputs": [
    {
     "data": {
      "text/plain": [
       "<torch._C.Generator at 0x22ef525ce30>"
      ]
     },
     "execution_count": 1,
     "metadata": {},
     "output_type": "execute_result"
    }
   ],
   "source": [
    "import torch\n",
    "import torch.nn as nn\n",
    "import torch.nn.functional as F\n",
    "import torch.optim as optim\n",
    "\n",
    "torch.manual_seed(1)"
   ]
  },
  {
   "cell_type": "code",
   "execution_count": 2,
   "id": "stuffed-capability",
   "metadata": {},
   "outputs": [
    {
     "name": "stdout",
     "output_type": "stream",
     "text": [
      "input1 [tensor([[-0.5525,  0.6355, -0.3968]]), tensor([[-0.6571, -1.6428,  0.9803]]), tensor([[-0.0421, -0.8206,  0.3133]]), tensor([[-1.1352,  0.3773, -0.2824]]), tensor([[-2.5667, -1.4303,  0.5009]])] \n",
      "\n",
      "input2 tensor([[[-0.5525,  0.6355, -0.3968]],\n",
      "\n",
      "        [[-0.6571, -1.6428,  0.9803]],\n",
      "\n",
      "        [[-0.0421, -0.8206,  0.3133]],\n",
      "\n",
      "        [[-1.1352,  0.3773, -0.2824]],\n",
      "\n",
      "        [[-2.5667, -1.4303,  0.5009]]]) \n",
      "\n",
      "hidden (tensor([[[-0.1473,  0.6272,  1.0935]]]), tensor([[[ 0.0939,  1.2381, -1.3459]]])) \n",
      "\n",
      "out tensor([[[-0.0187,  0.1713, -0.2944]],\n",
      "\n",
      "        [[-0.3521,  0.1026, -0.2971]],\n",
      "\n",
      "        [[-0.3191,  0.0781, -0.1957]],\n",
      "\n",
      "        [[-0.1634,  0.0941, -0.1637]],\n",
      "\n",
      "        [[-0.3368,  0.0959, -0.0538]]], grad_fn=<StackBackward>) \n",
      "\n",
      "hidden (tensor([[[-0.3368,  0.0959, -0.0538]]], grad_fn=<StackBackward>), tensor([[[-0.9825,  0.4715, -0.0633]]], grad_fn=<StackBackward>)) \n",
      "\n"
     ]
    }
   ],
   "source": [
    "lstm = nn.LSTM(3, 3) #input dim 3, output dim 3\n",
    "inputs = [torch.randn(1, 3) for _ in range(5)] #make a seq of 5\n",
    "print('input1', inputs, '\\n')\n",
    "\n",
    "#init hidden state\n",
    "hidden = (\n",
    "    torch.randn(1, 1, 3),\n",
    "    torch.randn(1, 1, 3)\n",
    ")\n",
    "\n",
    "inputs = torch.cat(inputs).view(len(inputs), 1, -1)\n",
    "print('input2', inputs, '\\n')\n",
    "hidden = (torch.randn(1, 1, 3), torch.randn(1, 1, 3))\n",
    "print('hidden', hidden, '\\n')\n",
    "out, hidden = lstm(inputs, hidden)\n",
    "print('out', out, '\\n')\n",
    "print('hidden', hidden, '\\n')"
   ]
  },
  {
   "cell_type": "code",
   "execution_count": 3,
   "id": "correct-static",
   "metadata": {},
   "outputs": [],
   "source": [
    "def prepare_sequence(seq, to_ix):\n",
    "    idxs = [to_ix[w] for w in seq]\n",
    "    return torch.tensor(idxs, dtype=torch.long)"
   ]
  },
  {
   "cell_type": "code",
   "execution_count": 16,
   "id": "minute-implement",
   "metadata": {},
   "outputs": [
    {
     "name": "stdout",
     "output_type": "stream",
     "text": [
      "{'The': 0, 'dog': 1, 'ate': 2, 'the': 3, 'apple': 4, 'Everybody': 5, 'read': 6, 'that': 7, 'book': 8}\n"
     ]
    }
   ],
   "source": [
    "training_data = [\n",
    "    (\"The dog ate the apple\".split(), [\"DET\", \"NN\", \"V\", \"DET\", \"NN\"]),\n",
    "    (\"Everybody read that book\".split(), [\"NN\", \"V\", \"DET\", \"NN\"]),\n",
    "    ([\"book\"], [\"NN\"])\n",
    "]\n",
    "word_to_ix = {}\n",
    "for sent, tags in training_data:\n",
    "    for word in sent:\n",
    "        if word not in word_to_ix:\n",
    "            word_to_ix[word] = len(word_to_ix)\n",
    "print(word_to_ix)\n",
    "tag_to_ix = {\"DET\": 0, \"NN\": 1, \"V\": 2}\n",
    "\n",
    "EMBEDDING_DIM = 6\n",
    "HIDDEN_DIM = 6"
   ]
  },
  {
   "cell_type": "code",
   "execution_count": 5,
   "id": "developmental-plymouth",
   "metadata": {},
   "outputs": [
    {
     "name": "stdout",
     "output_type": "stream",
     "text": [
      "tensor([8]) tensor([1])\n"
     ]
    }
   ],
   "source": [
    "inputs = prepare_sequence(training_data[2][0], word_to_ix)\n",
    "targets = prepare_sequence(training_data[2][1], tag_to_ix)\n",
    "print(inputs, targets)"
   ]
  },
  {
   "cell_type": "code",
   "execution_count": 17,
   "id": "grand-transcription",
   "metadata": {},
   "outputs": [],
   "source": [
    "class LSTMTagger(nn.Module):\n",
    "    \n",
    "    def __init__(\n",
    "        self,\n",
    "        embedding_dim,\n",
    "        hidden_dim,\n",
    "        vocab_size,\n",
    "        target_size\n",
    "    ):\n",
    "        super(LSTMTagger, self).__init__()\n",
    "        \n",
    "        self.hidden_dim = hidden_dim\n",
    "        self.word_embeddings = nn.Embedding(vocab_size, embedding_dim)\n",
    "        self.lstm = nn.LSTM(embedding_dim, hidden_dim)\n",
    "        self.hidden2tag = nn.Linear(hidden_dim, target_size)\n",
    "        self.sig = nn.Sigmoid()\n",
    "    \n",
    "    def forward(self, sentence):\n",
    "        print('sentence (per word)', sentence, '\\n')\n",
    "        embeds = self.word_embeddings(sentence)\n",
    "        print('embed', embeds, '\\n')\n",
    "        print('embed view', embeds.view(len(sentence), 1, -1), '\\n')\n",
    "        lstm_out, _ = self.lstm(embeds.view(len(sentence), 1, -1))\n",
    "        print('lstm out', lstm_out, '\\n')\n",
    "        print('lstm out sq', lstm_out.squeeze(), '\\n')\n",
    "        print('lstm out view', lstm_out.view(len(sentence), -1), '\\n')\n",
    "        tag_space = self.hidden2tag(lstm_out.view(len(sentence), -1))\n",
    "        print('tag_space', tag_space, '\\n')\n",
    "#         tag_scores = F.log_softmax(tag_space, dim=1)\n",
    "        tag_scores = self.sig(tag_space)\n",
    "        print('tag_scores', tag_scores, '\\n')\n",
    "        return tag_scores"
   ]
  },
  {
   "cell_type": "code",
   "execution_count": 18,
   "id": "alternative-jones",
   "metadata": {},
   "outputs": [],
   "source": [
    "model = LSTMTagger(\n",
    "    EMBEDDING_DIM,\n",
    "    HIDDEN_DIM,\n",
    "    len(word_to_ix),\n",
    "    len(tag_to_ix)\n",
    ")\n",
    "loss_function = nn.NLLLoss()\n",
    "optimizer = optim.SGD(model.parameters(), lr=0.1)"
   ]
  },
  {
   "cell_type": "code",
   "execution_count": 20,
   "id": "double-ethiopia",
   "metadata": {},
   "outputs": [
    {
     "name": "stdout",
     "output_type": "stream",
     "text": [
      "tensor([0, 1, 2, 3, 4])\n"
     ]
    }
   ],
   "source": [
    "print(prepare_sequence(training_data[0][0], word_to_ix))"
   ]
  },
  {
   "cell_type": "code",
   "execution_count": 21,
   "id": "featured-dairy",
   "metadata": {},
   "outputs": [
    {
     "name": "stdout",
     "output_type": "stream",
     "text": [
      "sentence (per word) tensor([0, 1, 2, 3, 4]) \n",
      "\n",
      "embed tensor([[-1.0301,  0.6039,  0.9831,  3.2373, -0.0390, -0.4583],\n",
      "        [-0.1672,  0.5562, -0.6607, -2.7947,  0.4582,  0.0534],\n",
      "        [-0.6820,  1.6040, -0.4936,  1.8431,  0.8171, -0.6775],\n",
      "        [ 1.7857, -1.5699, -1.0271,  0.1954,  0.9382,  1.5122],\n",
      "        [ 0.4242,  0.9676,  0.2028, -0.7651,  0.4003, -0.9219]]) \n",
      "\n",
      "embed view tensor([[[-1.0301,  0.6039,  0.9831,  3.2373, -0.0390, -0.4583]],\n",
      "\n",
      "        [[-0.1672,  0.5562, -0.6607, -2.7947,  0.4582,  0.0534]],\n",
      "\n",
      "        [[-0.6820,  1.6040, -0.4936,  1.8431,  0.8171, -0.6775]],\n",
      "\n",
      "        [[ 1.7857, -1.5699, -1.0271,  0.1954,  0.9382,  1.5122]],\n",
      "\n",
      "        [[ 0.4242,  0.9676,  0.2028, -0.7651,  0.4003, -0.9219]]]) \n",
      "\n",
      "lstm out tensor([[[ 2.7095e-01, -4.4941e-03,  3.6637e-01,  1.3571e-01, -8.9916e-02,\n",
      "          -5.2677e-02]],\n",
      "\n",
      "        [[ 6.5759e-02,  9.2645e-02, -1.6088e-02, -2.2010e-01,  1.4048e-01,\n",
      "           1.4815e-01]],\n",
      "\n",
      "        [[ 3.5869e-01,  6.9950e-02,  2.3049e-01, -1.2563e-01, -5.4001e-02,\n",
      "          -6.2121e-02]],\n",
      "\n",
      "        [[ 4.0291e-01,  3.9612e-01, -2.9486e-04,  2.4257e-01,  1.2987e-02,\n",
      "          -1.5169e-01]],\n",
      "\n",
      "        [[ 2.3002e-01,  1.1067e-01, -4.9729e-02, -1.7381e-02, -5.1856e-02,\n",
      "          -5.0483e-02]]]) \n",
      "\n",
      "lstm out sq tensor([[ 2.7095e-01, -4.4941e-03,  3.6637e-01,  1.3571e-01, -8.9916e-02,\n",
      "         -5.2677e-02],\n",
      "        [ 6.5759e-02,  9.2645e-02, -1.6088e-02, -2.2010e-01,  1.4048e-01,\n",
      "          1.4815e-01],\n",
      "        [ 3.5869e-01,  6.9950e-02,  2.3049e-01, -1.2563e-01, -5.4001e-02,\n",
      "         -6.2121e-02],\n",
      "        [ 4.0291e-01,  3.9612e-01, -2.9486e-04,  2.4257e-01,  1.2987e-02,\n",
      "         -1.5169e-01],\n",
      "        [ 2.3002e-01,  1.1067e-01, -4.9729e-02, -1.7381e-02, -5.1856e-02,\n",
      "         -5.0483e-02]]) \n",
      "\n",
      "lstm out view tensor([[ 2.7095e-01, -4.4941e-03,  3.6637e-01,  1.3571e-01, -8.9916e-02,\n",
      "         -5.2677e-02],\n",
      "        [ 6.5759e-02,  9.2645e-02, -1.6088e-02, -2.2010e-01,  1.4048e-01,\n",
      "          1.4815e-01],\n",
      "        [ 3.5869e-01,  6.9950e-02,  2.3049e-01, -1.2563e-01, -5.4001e-02,\n",
      "         -6.2121e-02],\n",
      "        [ 4.0291e-01,  3.9612e-01, -2.9486e-04,  2.4257e-01,  1.2987e-02,\n",
      "         -1.5169e-01],\n",
      "        [ 2.3002e-01,  1.1067e-01, -4.9729e-02, -1.7381e-02, -5.1856e-02,\n",
      "         -5.0483e-02]]) \n",
      "\n",
      "tag_space tensor([[-0.2353,  0.2195, -0.0721],\n",
      "        [-0.1332,  0.4239,  0.1012],\n",
      "        [-0.2209,  0.3416, -0.0167],\n",
      "        [-0.1088,  0.1643, -0.1412],\n",
      "        [-0.0803,  0.3075, -0.0811]]) \n",
      "\n",
      "tag_scores tensor([[0.4415, 0.5547, 0.4820],\n",
      "        [0.4668, 0.6044, 0.5253],\n",
      "        [0.4450, 0.5846, 0.4958],\n",
      "        [0.4728, 0.5410, 0.4648],\n",
      "        [0.4799, 0.5763, 0.4797]]) \n",
      "\n"
     ]
    }
   ],
   "source": [
    "with torch.no_grad():\n",
    "    inputs = prepare_sequence(training_data[0][0], word_to_ix)\n",
    "    tag_scores = model(inputs)"
   ]
  },
  {
   "cell_type": "code",
   "execution_count": 22,
   "id": "legal-hometown",
   "metadata": {},
   "outputs": [
    {
     "name": "stdout",
     "output_type": "stream",
     "text": [
      "sentence (per word) tensor([0, 1, 2, 3, 4]) \n",
      "\n",
      "embed tensor([[-1.0301,  0.6039,  0.9831,  3.2373, -0.0390, -0.4583],\n",
      "        [-0.1672,  0.5562, -0.6607, -2.7947,  0.4582,  0.0534],\n",
      "        [-0.6820,  1.6040, -0.4936,  1.8431,  0.8171, -0.6775],\n",
      "        [ 1.7857, -1.5699, -1.0271,  0.1954,  0.9382,  1.5122],\n",
      "        [ 0.4242,  0.9676,  0.2028, -0.7651,  0.4003, -0.9219]],\n",
      "       grad_fn=<EmbeddingBackward>) \n",
      "\n",
      "embed view tensor([[[-1.0301,  0.6039,  0.9831,  3.2373, -0.0390, -0.4583]],\n",
      "\n",
      "        [[-0.1672,  0.5562, -0.6607, -2.7947,  0.4582,  0.0534]],\n",
      "\n",
      "        [[-0.6820,  1.6040, -0.4936,  1.8431,  0.8171, -0.6775]],\n",
      "\n",
      "        [[ 1.7857, -1.5699, -1.0271,  0.1954,  0.9382,  1.5122]],\n",
      "\n",
      "        [[ 0.4242,  0.9676,  0.2028, -0.7651,  0.4003, -0.9219]]],\n",
      "       grad_fn=<ViewBackward>) \n",
      "\n",
      "lstm out tensor([[[ 2.7095e-01, -4.4941e-03,  3.6637e-01,  1.3571e-01, -8.9916e-02,\n",
      "          -5.2677e-02]],\n",
      "\n",
      "        [[ 6.5759e-02,  9.2645e-02, -1.6088e-02, -2.2010e-01,  1.4048e-01,\n",
      "           1.4815e-01]],\n",
      "\n",
      "        [[ 3.5869e-01,  6.9950e-02,  2.3049e-01, -1.2563e-01, -5.4001e-02,\n",
      "          -6.2121e-02]],\n",
      "\n",
      "        [[ 4.0291e-01,  3.9612e-01, -2.9486e-04,  2.4257e-01,  1.2987e-02,\n",
      "          -1.5169e-01]],\n",
      "\n",
      "        [[ 2.3002e-01,  1.1067e-01, -4.9729e-02, -1.7381e-02, -5.1856e-02,\n",
      "          -5.0483e-02]]], grad_fn=<StackBackward>) \n",
      "\n",
      "lstm out sq tensor([[ 2.7095e-01, -4.4941e-03,  3.6637e-01,  1.3571e-01, -8.9916e-02,\n",
      "         -5.2677e-02],\n",
      "        [ 6.5759e-02,  9.2645e-02, -1.6088e-02, -2.2010e-01,  1.4048e-01,\n",
      "          1.4815e-01],\n",
      "        [ 3.5869e-01,  6.9950e-02,  2.3049e-01, -1.2563e-01, -5.4001e-02,\n",
      "         -6.2121e-02],\n",
      "        [ 4.0291e-01,  3.9612e-01, -2.9486e-04,  2.4257e-01,  1.2987e-02,\n",
      "         -1.5169e-01],\n",
      "        [ 2.3002e-01,  1.1067e-01, -4.9729e-02, -1.7381e-02, -5.1856e-02,\n",
      "         -5.0483e-02]], grad_fn=<SqueezeBackward0>) \n",
      "\n",
      "lstm out view tensor([[ 2.7095e-01, -4.4941e-03,  3.6637e-01,  1.3571e-01, -8.9916e-02,\n",
      "         -5.2677e-02],\n",
      "        [ 6.5759e-02,  9.2645e-02, -1.6088e-02, -2.2010e-01,  1.4048e-01,\n",
      "          1.4815e-01],\n",
      "        [ 3.5869e-01,  6.9950e-02,  2.3049e-01, -1.2563e-01, -5.4001e-02,\n",
      "         -6.2121e-02],\n",
      "        [ 4.0291e-01,  3.9612e-01, -2.9486e-04,  2.4257e-01,  1.2987e-02,\n",
      "         -1.5169e-01],\n",
      "        [ 2.3002e-01,  1.1067e-01, -4.9729e-02, -1.7381e-02, -5.1856e-02,\n",
      "         -5.0483e-02]], grad_fn=<ViewBackward>) \n",
      "\n",
      "tag_space tensor([[-0.2353,  0.2195, -0.0721],\n",
      "        [-0.1332,  0.4239,  0.1012],\n",
      "        [-0.2209,  0.3416, -0.0167],\n",
      "        [-0.1088,  0.1643, -0.1412],\n",
      "        [-0.0803,  0.3075, -0.0811]], grad_fn=<AddmmBackward>) \n",
      "\n",
      "tag_scores tensor([[0.4415, 0.5547, 0.4820],\n",
      "        [0.4668, 0.6044, 0.5253],\n",
      "        [0.4450, 0.5846, 0.4958],\n",
      "        [0.4728, 0.5410, 0.4648],\n",
      "        [0.4799, 0.5763, 0.4797]], grad_fn=<SigmoidBackward>) \n",
      "\n",
      "targets tensor([0, 1, 2, 0, 1])\n",
      "loss tensor(-0.5182, grad_fn=<NllLossBackward>)\n"
     ]
    }
   ],
   "source": [
    "for epoch in range(1):\n",
    "    for sentence, tags in training_data:\n",
    "        model.zero_grad()\n",
    "        sentence_in = prepare_sequence(sentence, word_to_ix)\n",
    "        targets = prepare_sequence(tags, tag_to_ix)\n",
    "        \n",
    "        tag_scores = model(sentence_in)\n",
    "        print('targets', targets)\n",
    "        loss = loss_function(tag_scores, targets)\n",
    "        print('loss', loss)\n",
    "        \n",
    "        loss.backward()\n",
    "        optimizer.step()\n",
    "        break\n",
    "    break"
   ]
  },
  {
   "cell_type": "code",
   "execution_count": 55,
   "id": "disabled-apartment",
   "metadata": {},
   "outputs": [
    {
     "name": "stdout",
     "output_type": "stream",
     "text": [
      "sentence (per word) tensor([8]) \n",
      "\n",
      "embed tensor([[ 1.2678, -1.3178,  2.1215, -2.3513, -0.3042, -1.2749]]) \n",
      "\n",
      "embed view tensor([[[ 1.2678, -1.3178,  2.1215, -2.3513, -0.3042, -1.2749]]]) \n",
      "\n",
      "lstm out tensor([[[-0.0943,  0.1698,  0.0422, -0.1209, -0.0135, -0.3966]]]) \n",
      "\n",
      "lstm out view tensor([[-0.0943,  0.1698,  0.0422, -0.1209, -0.0135, -0.3966]]) \n",
      "\n",
      "tag_space tensor([[-0.0651,  0.0510,  0.4032]]) \n",
      "\n",
      "tag_scores tensor([[0.4837, 0.5128, 0.5995]]) \n",
      "\n",
      "tensor([[0.4837, 0.5128, 0.5995]])\n"
     ]
    }
   ],
   "source": [
    "with torch.no_grad():\n",
    "    inputs = prepare_sequence(training_data[2][0], word_to_ix)\n",
    "    tag_scores = model(inputs)\n",
    "    print(tag_scores)"
   ]
  }
 ],
 "metadata": {
  "kernelspec": {
   "display_name": "Python 3",
   "language": "python",
   "name": "python3"
  },
  "language_info": {
   "codemirror_mode": {
    "name": "ipython",
    "version": 3
   },
   "file_extension": ".py",
   "mimetype": "text/x-python",
   "name": "python",
   "nbconvert_exporter": "python",
   "pygments_lexer": "ipython3",
   "version": "3.8.7"
  }
 },
 "nbformat": 4,
 "nbformat_minor": 5
}
