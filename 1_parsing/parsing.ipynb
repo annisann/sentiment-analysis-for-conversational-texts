{
 "cells": [
  {
   "cell_type": "code",
   "execution_count": 1,
   "id": "civil-cowboy",
   "metadata": {},
   "outputs": [],
   "source": [
    "import pandas as pd\n",
    "import os\n",
    "import numpy as np\n",
    "import sys"
   ]
  },
  {
   "cell_type": "code",
   "execution_count": null,
   "id": "minus-conclusion",
   "metadata": {},
   "outputs": [],
   "source": [
    "# file_list = os.listdir(os.getcwd()+'/dataset (csv) labelled')"
   ]
  },
  {
   "cell_type": "code",
   "execution_count": null,
   "id": "rational-right",
   "metadata": {},
   "outputs": [],
   "source": [
    "# doc_list = [file for file in file_list if file.endswith('.csv')]"
   ]
  },
  {
   "cell_type": "code",
   "execution_count": null,
   "id": "driving-plane",
   "metadata": {},
   "outputs": [],
   "source": [
    "#edit timestamp untuk chat7.csv\n",
    "# chat7 = pd.read_csv(\n",
    "#     'dataset (csv) labelled/chat7.csv',\n",
    "#     usecols=['timestamp', 'sender', 'messages', 'sentiment_per_chat', 'sentiment_per_sesi']\n",
    "# )\n",
    "# chat7 = chat7.values.tolist()\n",
    "# new_chat7 = list()\n",
    "# for i in chat7:\n",
    "#     each = list()\n",
    "#     for j, doc in enumerate(i):\n",
    "#         if j == 0:\n",
    "#             doc = str(doc)[0:5]\n",
    "#         each.append(doc)\n",
    "#     new_chat7.append(each)"
   ]
  },
  {
   "cell_type": "code",
   "execution_count": null,
   "id": "processed-crack",
   "metadata": {},
   "outputs": [],
   "source": [
    "# new_chat7_np = np.array(new_chat7)"
   ]
  },
  {
   "cell_type": "code",
   "execution_count": null,
   "id": "green-chapter",
   "metadata": {},
   "outputs": [],
   "source": [
    "#save new_chat7 as csv\n",
    "# chat7_df = pd.DataFrame(\n",
    "#     list(zip(new_chat7_np[:, 0], new_chat7_np[:, 1], new_chat7_np[:, 2], new_chat7_np[:, 3], new_chat7_np[:, 4])),\n",
    "#     columns=['timestamp', 'sender', 'messages', 'sentiment_per_chat', 'sentiment_per_sesi']\n",
    "# )\n",
    "# chat7_df.to_csv('chat7_new.csv', index=False)"
   ]
  },
  {
   "cell_type": "code",
   "execution_count": null,
   "id": "radical-saver",
   "metadata": {},
   "outputs": [],
   "source": [
    "#edit timestamp untuk chat10.csv\n",
    "# chat10 = pd.read_csv(\n",
    "#     'dataset (csv) labelled/chat10.csv',\n",
    "#     usecols=['timestamp', 'sender', 'messages', 'sentiment_per_chat', 'sentiment_per_sesi']\n",
    "# )\n",
    "# chat10 = chat10.values.tolist()\n",
    "# new_chat10 = list()\n",
    "# for i in chat10:\n",
    "#     each = list()\n",
    "#     for j, doc in enumerate(i):\n",
    "#         if j == 0:\n",
    "#             doc = doc.replace('[', '')\n",
    "#             doc = doc.replace(']', '')\n",
    "#             doc = doc.split(' ')\n",
    "#             doc = doc[0].replace('/', '')\n",
    "#         each.append(doc)\n",
    "#     new_chat10.append(each)"
   ]
  },
  {
   "cell_type": "code",
   "execution_count": null,
   "id": "received-console",
   "metadata": {},
   "outputs": [],
   "source": [
    "# new_chat10_np = np.array(new_chat10)"
   ]
  },
  {
   "cell_type": "code",
   "execution_count": null,
   "id": "offshore-observation",
   "metadata": {},
   "outputs": [],
   "source": [
    "#save new_chat10 as csv\n",
    "# chat10_df = pd.DataFrame(\n",
    "#     list(zip(new_chat10_np[:, 0], new_chat10_np[:, 1], new_chat10_np[:, 2], new_chat10_np[:, 3], new_chat10_np[:, 4])),\n",
    "#     columns=['timestamp', 'sender', 'messages', 'sentiment_per_chat', 'sentiment_per_sesi']\n",
    "# )\n",
    "# chat10_df.to_csv('chat10_new.csv', index=False)"
   ]
  },
  {
   "cell_type": "code",
   "execution_count": 39,
   "id": "framed-cyprus",
   "metadata": {},
   "outputs": [],
   "source": [
    "def parsing_csv(nama_file):\n",
    "    chats = pd.read_csv(\n",
    "        nama_file,\n",
    "        usecols=[\"timestamp\", \"sender\", \"messages\", \"sentiment_per_chat\", \"sentiment_per_sesi\"]\n",
    "    )\n",
    "    chats = chats.values.tolist()\n",
    "    \n",
    "    chats = remove_newline_in_message(chats)\n",
    "    \n",
    "    sessioned_chats = grouping_chat_per_session(chats)\n",
    "    \n",
    "    sessioned_chats_by_sender = grouping_chat_per_sender(sessioned_chats)\n",
    "    \n",
    "    write_into_txt(nama_file, sessioned_chats_by_sender)"
   ]
  },
  {
   "cell_type": "code",
   "execution_count": 40,
   "id": "damaged-vegetable",
   "metadata": {},
   "outputs": [
    {
     "name": "stdout",
     "output_type": "stream",
     "text": [
      "chat7_new.csv file has been parsed!\n",
      "chat10_new.csv file has been parsed!\n"
     ]
    }
   ],
   "source": [
    "parsing_csv('chat7_new.csv')\n",
    "parsing_csv('chat10_new.csv')"
   ]
  },
  {
   "cell_type": "code",
   "execution_count": 27,
   "id": "incorporate-backing",
   "metadata": {},
   "outputs": [],
   "source": [
    "def remove_newline_in_message(chats):\n",
    "    hasil = list()\n",
    "    for chat in chats:\n",
    "        chat[2] = chat[2].replace('\\n', ' ')\n",
    "        hasil.append(chat)\n",
    "    return hasil"
   ]
  },
  {
   "cell_type": "code",
   "execution_count": 32,
   "id": "violent-encyclopedia",
   "metadata": {},
   "outputs": [],
   "source": [
    "def grouping_chat_per_session(chats):\n",
    "    hasil = list()\n",
    "    per_sesi = list()\n",
    "    date_bfr = chats[0][0]\n",
    "    for i, chat in enumerate(chats):\n",
    "        if (chat[0] != date_bfr):\n",
    "            sentimen = chats[i-1][4]\n",
    "            per_sesi[-1][2] = sentimen\n",
    "            hasil.append(per_sesi)\n",
    "            per_sesi = list()\n",
    "            date_bfr = chat[0]\n",
    "        chat_per_sesi = [chat[1], chat[2], chat[3]]\n",
    "        per_sesi.append(chat_per_sesi)\n",
    "        if (i == len(chats)-1):\n",
    "            if (len(per_sesi) == 1):\n",
    "                sentimen = chats[i][4]\n",
    "            else:\n",
    "                sentimen = chats[i-1][4]\n",
    "            per_sesi[-1][2] = sentimen\n",
    "            hasil.append(per_sesi)\n",
    "    return hasil"
   ]
  },
  {
   "cell_type": "code",
   "execution_count": 33,
   "id": "abroad-secret",
   "metadata": {},
   "outputs": [],
   "source": [
    "def find_same_sender_idx(sesi):\n",
    "    same_index = list()\n",
    "    sender_idx_bfr = -1\n",
    "    sender_idx_aft = -1\n",
    "    for i, chat in enumerate(sesi):\n",
    "        if (i == len(sesi)-1):\n",
    "            if (sender_idx_bfr != -1 and sender_idx_aft != -1):\n",
    "                    same_index.append([sender_idx_bfr, sender_idx_aft])\n",
    "                    sender_idx_bfr = -1\n",
    "                    sender_idx_aft = -1\n",
    "        else:\n",
    "            if (sesi[i][0] == sesi[i+1][0]):\n",
    "                sender_idx_bfr = i\n",
    "                sender_idx_aft = i+1\n",
    "            else:\n",
    "                if (sender_idx_bfr != -1 and sender_idx_aft != -1):\n",
    "                    same_index.append([sender_idx_bfr, sender_idx_aft])\n",
    "                    sender_idx_bfr = -1\n",
    "                    sender_idx_aft = -1\n",
    "    return same_index"
   ]
  },
  {
   "cell_type": "code",
   "execution_count": 34,
   "id": "dated-violation",
   "metadata": {},
   "outputs": [],
   "source": [
    "def grouping_same_idx(sesi, same_idx):\n",
    "    not_incl = list()\n",
    "    sesi_copy = sesi[:]\n",
    "    for idx in same_idx:\n",
    "        message = \"\"\n",
    "        for i, x in enumerate(idx):\n",
    "            message += sesi_copy[x][1] + \" \"\n",
    "            if (i != 0): not_incl.append(x)\n",
    "        sesi_copy[idx[0]][1] = message\n",
    "        sesi_copy[idx[0]][2] = sesi[idx[-1]][2]\n",
    "    \n",
    "    new_sesi = list()\n",
    "    for i, chat in enumerate(sesi_copy):\n",
    "        if i not in not_incl:\n",
    "            new_sesi.append(sesi_copy[i])\n",
    "    return new_sesi"
   ]
  },
  {
   "cell_type": "code",
   "execution_count": 35,
   "id": "canadian-vatican",
   "metadata": {},
   "outputs": [],
   "source": [
    "def grouping_chat_per_sender(sessioned_chats):\n",
    "    sessioned_chats_by_sender = list()\n",
    "    for i, sesi in enumerate(sessioned_chats):\n",
    "        same_idx = find_same_sender_idx(sesi)\n",
    "        if same_idx:\n",
    "            sessioned_chats_by_sender.append(grouping_same_idx(sesi, same_idx))\n",
    "        if not same_idx:\n",
    "            sessioned_chats_by_sender.append(sesi)\n",
    "    return sessioned_chats_by_sender"
   ]
  },
  {
   "cell_type": "code",
   "execution_count": 38,
   "id": "excess-viewer",
   "metadata": {},
   "outputs": [],
   "source": [
    "def write_into_txt(doc, sessioned_chats_by_sender):\n",
    "    nama_folder = 'parsed doc new2/' + doc.replace('.csv', '')\n",
    "    error = False\n",
    "    try:\n",
    "        os.makedirs(os.path.join(os.getcwd(), nama_folder))\n",
    "    except OSError as error_msg:\n",
    "        print(error_msg)\n",
    "        error = True\n",
    "    \n",
    "    if not error:\n",
    "        for i, sesi in enumerate(sessioned_chats_by_sender):\n",
    "            text_per_sesi = \"\"\n",
    "            for j, chat in enumerate(sesi):\n",
    "                text_per_sesi += chat[0] + \"\\n\"\n",
    "                text_per_sesi += chat[1] + \"\\n\"\n",
    "                text_per_sesi += str(chat[2])\n",
    "                if j != len(sesi)-1:\n",
    "                    text_per_sesi += \"\\n\"\n",
    "            nama_file = nama_folder + '/sesi' + str(i) + '.txt'\n",
    "            f = open(nama_file, 'w', encoding='utf8')\n",
    "            f.write(text_per_sesi)\n",
    "            f.close()\n",
    "        print(doc + ' file has been parsed!')"
   ]
  },
  {
   "cell_type": "code",
   "execution_count": null,
   "id": "democratic-vaccine",
   "metadata": {},
   "outputs": [],
   "source": [
    "# def clean_date_format(chats):\n",
    "#     for i, chat in enumerate(chats):\n",
    "#         temp = chat[0].replace('[', '').replace(',', '')\n",
    "#         temp = temp.split()[0]\n",
    "#         chats[i][0] = temp\n",
    "#     return chats"
   ]
  }
 ],
 "metadata": {
  "kernelspec": {
   "display_name": "Python 3",
   "language": "python",
   "name": "python3"
  },
  "language_info": {
   "codemirror_mode": {
    "name": "ipython",
    "version": 3
   },
   "file_extension": ".py",
   "mimetype": "text/x-python",
   "name": "python",
   "nbconvert_exporter": "python",
   "pygments_lexer": "ipython3",
   "version": "3.8.7"
  }
 },
 "nbformat": 4,
 "nbformat_minor": 5
}
