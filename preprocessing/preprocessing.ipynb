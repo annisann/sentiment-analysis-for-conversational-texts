{
 "cells": [
  {
   "cell_type": "code",
   "execution_count": 1,
   "metadata": {},
   "outputs": [],
   "source": [
    "import pandas as pd\n",
    "import numpy as np\n",
    "import json\n",
    "import re\n",
    "import os\n",
    "from Sastrawi.Stemmer.StemmerFactory import StemmerFactory"
   ]
  },
  {
   "cell_type": "markdown",
   "metadata": {},
   "source": [
    "### 1. Parsing Dokumen"
   ]
  },
  {
   "cell_type": "code",
   "execution_count": 8,
   "metadata": {},
   "outputs": [],
   "source": [
    "## read each chats session folder path\n",
    "\"\"\" 1. list folder chatx DONE\n",
    "    2. list file dalam folder\n",
    "    \n",
    "    EXPECTED:\n",
    "    current dir + /parsed doc/ + chatx/ + sesix.txt    \n",
    "\"\"\"\n",
    "parsed_doc_path = '../parsing/parsed_doc/'\n",
    "chat_folders = [chat_folder for chat_folder in os.listdir(parsed_doc_path) if not chat_folder.startswith('.')]\n",
    "\n",
    "paths = []\n",
    "for chat_folder in chat_folders:\n",
    "    pattern = parsed_doc_path + chat_folder\n",
    "    paths.append(pattern)\n",
    "    \n",
    "sesi_paths = []\n",
    "for path in paths:\n",
    "    for roots, dirs, files in os.walk(path):\n",
    "        if \"checkpoints\" not in roots:\n",
    "            for file in files:\n",
    "                sesi_paths.append(roots + '/' + file)"
   ]
  },
  {
   "cell_type": "code",
   "execution_count": 9,
   "metadata": {},
   "outputs": [],
   "source": [
    "## make list of dataframe for each chats session\n",
    "chats_temp = [pd.read_csv(sesi, sep='|', names=['sender', 'messages', 'sentiment']) for sesi in sesi_paths]\n",
    "\n",
    "## drop sender column (since its not necessary)\n",
    "for chat in chats_temp:\n",
    "    chat.drop('sender', axis=1, inplace=True)\n",
    "\n",
    "## combine all dataframe into one dataframe\n",
    "chats = pd.concat(chats_temp, ignore_index=True)"
   ]
  },
  {
   "cell_type": "code",
   "execution_count": 10,
   "metadata": {},
   "outputs": [
    {
     "data": {
      "text/html": [
       "<div>\n",
       "<style scoped>\n",
       "    .dataframe tbody tr th:only-of-type {\n",
       "        vertical-align: middle;\n",
       "    }\n",
       "\n",
       "    .dataframe tbody tr th {\n",
       "        vertical-align: top;\n",
       "    }\n",
       "\n",
       "    .dataframe thead th {\n",
       "        text-align: right;\n",
       "    }\n",
       "</style>\n",
       "<table border=\"1\" class=\"dataframe\">\n",
       "  <thead>\n",
       "    <tr style=\"text-align: right;\">\n",
       "      <th></th>\n",
       "      <th>messages</th>\n",
       "      <th>sentiment</th>\n",
       "    </tr>\n",
       "  </thead>\n",
       "  <tbody>\n",
       "    <tr>\n",
       "      <th>0</th>\n",
       "      <td>Assalamualaikum Wr. Wb. Pak, selamat pagi, moh...</td>\n",
       "      <td>1</td>\n",
       "    </tr>\n",
       "    <tr>\n",
       "      <th>1</th>\n",
       "      <td>Wa'alaykumsalam. Via wa ini sj ya</td>\n",
       "      <td>1</td>\n",
       "    </tr>\n",
       "    <tr>\n",
       "      <th>2</th>\n",
       "      <td>Baik Pak. Perihal waktu bimbingannya sendiri, ...</td>\n",
       "      <td>1</td>\n",
       "    </tr>\n",
       "    <tr>\n",
       "      <th>3</th>\n",
       "      <td>Biasanya hari Kamis atau Jumat</td>\n",
       "      <td>1</td>\n",
       "    </tr>\n",
       "    <tr>\n",
       "      <th>4</th>\n",
       "      <td>Baik Pak. Lalu untuk pelaksanaan P0, apakah te...</td>\n",
       "      <td>1</td>\n",
       "    </tr>\n",
       "  </tbody>\n",
       "</table>\n",
       "</div>"
      ],
      "text/plain": [
       "                                            messages  sentiment\n",
       "0  Assalamualaikum Wr. Wb. Pak, selamat pagi, moh...          1\n",
       "1                  Wa'alaykumsalam. Via wa ini sj ya          1\n",
       "2  Baik Pak. Perihal waktu bimbingannya sendiri, ...          1\n",
       "3                     Biasanya hari Kamis atau Jumat          1\n",
       "4  Baik Pak. Lalu untuk pelaksanaan P0, apakah te...          1"
      ]
     },
     "execution_count": 10,
     "metadata": {},
     "output_type": "execute_result"
    }
   ],
   "source": [
    "chats.head()"
   ]
  },
  {
   "cell_type": "markdown",
   "metadata": {},
   "source": [
    "### 2. Lexical Analysis"
   ]
  },
  {
   "cell_type": "code",
   "execution_count": 11,
   "metadata": {},
   "outputs": [],
   "source": [
    "## lexical analysis - cleaning\n",
    "def cleaning(message):\n",
    "    \"\"\" This function will remove unnecessaries values in the messages i.e links, emails, and punctuations\n",
    "    \"\"\"\n",
    "    link_reg = r'(https?:\\/\\/[^\\s]+)|(www\\.[^\\s]+)|(meet\\.google\\.[^\\s]+)|(bit\\.ly[^\\s]+)'\n",
    "    email_reg = r'([a-zA-Z0-9\\.\\_\\-]+@+[a-zA-Z0-9.]+)'\n",
    "    punct_reg = r'[^a-zA-Z0-9\\[\\]]'\n",
    "    numb_reg = r'\\b[0-9]+\\b\\s*'\n",
    "    \n",
    "    message = re.sub(link_reg, '', message) # -> link removed\n",
    "    message = re.sub(email_reg, '', message) # -> email removed\n",
    "    message = re.sub(punct_reg, ' ', message) # -> punctuation removed\n",
    "    message = re.sub(numb_reg, '', message) # -> numbers removed\n",
    "    \n",
    "    return message"
   ]
  },
  {
   "cell_type": "code",
   "execution_count": 12,
   "metadata": {},
   "outputs": [],
   "source": [
    "## lexical analysis - tokenization\n",
    "def tokenize(message, token_list):\n",
    "    \"\"\" This function will turns all sentences into token or word.\n",
    "        Each messages will saved in a list.\n",
    "    \"\"\"\n",
    "    word_list = re.split('\\s+', message)\n",
    "    for word in word_list:\n",
    "        if word not in token_list:\n",
    "            token_list.append(word)\n",
    "    \n",
    "    return word_list, token_list"
   ]
  },
  {
   "cell_type": "code",
   "execution_count": 13,
   "metadata": {},
   "outputs": [],
   "source": [
    "## do lexical analysis\n",
    "for i, row in chats.iterrows():\n",
    "    message = row['messages']\n",
    "    # do cleaning\n",
    "    message = cleaning(message)\n",
    "    # do lower case\n",
    "    message = message.lower()\n",
    "    # do tokenization\n",
    "    message = re.split('\\s+', message)\n",
    "    \n",
    "    #replace current message value in df\n",
    "    chats.at[i, 'messages'] = message"
   ]
  },
  {
   "cell_type": "code",
   "execution_count": 14,
   "metadata": {},
   "outputs": [
    {
     "data": {
      "text/html": [
       "<div>\n",
       "<style scoped>\n",
       "    .dataframe tbody tr th:only-of-type {\n",
       "        vertical-align: middle;\n",
       "    }\n",
       "\n",
       "    .dataframe tbody tr th {\n",
       "        vertical-align: top;\n",
       "    }\n",
       "\n",
       "    .dataframe thead th {\n",
       "        text-align: right;\n",
       "    }\n",
       "</style>\n",
       "<table border=\"1\" class=\"dataframe\">\n",
       "  <thead>\n",
       "    <tr style=\"text-align: right;\">\n",
       "      <th></th>\n",
       "      <th>messages</th>\n",
       "      <th>sentiment</th>\n",
       "    </tr>\n",
       "  </thead>\n",
       "  <tbody>\n",
       "    <tr>\n",
       "      <th>0</th>\n",
       "      <td>[assalamualaikum, wr, wb, pak, selamat, pagi, ...</td>\n",
       "      <td>1</td>\n",
       "    </tr>\n",
       "    <tr>\n",
       "      <th>1</th>\n",
       "      <td>[wa, alaykumsalam, via, wa, ini, sj, ya]</td>\n",
       "      <td>1</td>\n",
       "    </tr>\n",
       "    <tr>\n",
       "      <th>2</th>\n",
       "      <td>[baik, pak, perihal, waktu, bimbingannya, send...</td>\n",
       "      <td>1</td>\n",
       "    </tr>\n",
       "    <tr>\n",
       "      <th>3</th>\n",
       "      <td>[biasanya, hari, kamis, atau, jumat]</td>\n",
       "      <td>1</td>\n",
       "    </tr>\n",
       "    <tr>\n",
       "      <th>4</th>\n",
       "      <td>[baik, pak, lalu, untuk, pelaksanaan, p0, apak...</td>\n",
       "      <td>1</td>\n",
       "    </tr>\n",
       "  </tbody>\n",
       "</table>\n",
       "</div>"
      ],
      "text/plain": [
       "                                            messages  sentiment\n",
       "0  [assalamualaikum, wr, wb, pak, selamat, pagi, ...          1\n",
       "1           [wa, alaykumsalam, via, wa, ini, sj, ya]          1\n",
       "2  [baik, pak, perihal, waktu, bimbingannya, send...          1\n",
       "3               [biasanya, hari, kamis, atau, jumat]          1\n",
       "4  [baik, pak, lalu, untuk, pelaksanaan, p0, apak...          1"
      ]
     },
     "execution_count": 14,
     "metadata": {},
     "output_type": "execute_result"
    }
   ],
   "source": [
    "chats.head()"
   ]
  },
  {
   "cell_type": "markdown",
   "metadata": {},
   "source": [
    "### 3. Normalization (Slang Word)"
   ]
  },
  {
   "cell_type": "code",
   "execution_count": 20,
   "metadata": {},
   "outputs": [],
   "source": [
    "## normalize function\n",
    "def normalize(slang_words, tokens):\n",
    "    \"\"\" This function will normalize the tokens,\n",
    "        it will turn the slang words or typos to its normal values.\n",
    "        NOTE: you could add the values into json files.\n",
    "    \"\"\"\n",
    "    new_tokens = list()\n",
    "    for token in tokens:\n",
    "        new_value = slang_words.get(token, token) #2nd parameter for default value if word's key not found\n",
    "        new_tokens.append(new_value)\n",
    "    \n",
    "    return new_tokens"
   ]
  },
  {
   "cell_type": "code",
   "execution_count": 24,
   "metadata": {},
   "outputs": [],
   "source": [
    "## open slang_words json\n",
    "f = open('slang_words.json', 'r')\n",
    "slang_words = json.load(f)\n",
    "f.close()\n",
    "\n",
    "## do normalize\n",
    "for i, row in chats.iterrows():\n",
    "    tokens = row['messages']\n",
    "    # do normalize\n",
    "    new_tokens = normalize(slang_words, tokens)\n",
    "    \n",
    "    #replace current message value in df\n",
    "    chats.at[i, 'messages'] = new_tokens"
   ]
  },
  {
   "cell_type": "code",
   "execution_count": 25,
   "metadata": {},
   "outputs": [
    {
     "data": {
      "text/html": [
       "<div>\n",
       "<style scoped>\n",
       "    .dataframe tbody tr th:only-of-type {\n",
       "        vertical-align: middle;\n",
       "    }\n",
       "\n",
       "    .dataframe tbody tr th {\n",
       "        vertical-align: top;\n",
       "    }\n",
       "\n",
       "    .dataframe thead th {\n",
       "        text-align: right;\n",
       "    }\n",
       "</style>\n",
       "<table border=\"1\" class=\"dataframe\">\n",
       "  <thead>\n",
       "    <tr style=\"text-align: right;\">\n",
       "      <th></th>\n",
       "      <th>messages</th>\n",
       "      <th>sentiment</th>\n",
       "    </tr>\n",
       "  </thead>\n",
       "  <tbody>\n",
       "    <tr>\n",
       "      <th>0</th>\n",
       "      <td>[assalamualaikum, wr, wb, bapak, selamat, pagi...</td>\n",
       "      <td>1</td>\n",
       "    </tr>\n",
       "    <tr>\n",
       "      <th>1</th>\n",
       "      <td>[whatsapp, alaykumsalam, via, whatsapp, ini, s...</td>\n",
       "      <td>1</td>\n",
       "    </tr>\n",
       "    <tr>\n",
       "      <th>2</th>\n",
       "      <td>[baik, bapak, perihal, waktu, bimbingannya, se...</td>\n",
       "      <td>1</td>\n",
       "    </tr>\n",
       "    <tr>\n",
       "      <th>3</th>\n",
       "      <td>[biasanya, hari, kamis, atau, jumat]</td>\n",
       "      <td>1</td>\n",
       "    </tr>\n",
       "    <tr>\n",
       "      <th>4</th>\n",
       "      <td>[baik, bapak, lalu, untuk, pelaksanaan, p0, ap...</td>\n",
       "      <td>1</td>\n",
       "    </tr>\n",
       "  </tbody>\n",
       "</table>\n",
       "</div>"
      ],
      "text/plain": [
       "                                            messages  sentiment\n",
       "0  [assalamualaikum, wr, wb, bapak, selamat, pagi...          1\n",
       "1  [whatsapp, alaykumsalam, via, whatsapp, ini, s...          1\n",
       "2  [baik, bapak, perihal, waktu, bimbingannya, se...          1\n",
       "3               [biasanya, hari, kamis, atau, jumat]          1\n",
       "4  [baik, bapak, lalu, untuk, pelaksanaan, p0, ap...          1"
      ]
     },
     "execution_count": 25,
     "metadata": {},
     "output_type": "execute_result"
    }
   ],
   "source": [
    "chats.head()"
   ]
  },
  {
   "cell_type": "markdown",
   "metadata": {},
   "source": [
    "### 4. Filtering"
   ]
  },
  {
   "cell_type": "code",
   "execution_count": 27,
   "metadata": {},
   "outputs": [],
   "source": [
    "## filtering function\n",
    "def filtering(stopword_list, tokens):\n",
    "    \"\"\" Filtering: removing stopwords from tokens.\n",
    "        In this project, we will use tala stopwords list.\n",
    "    \"\"\"\n",
    "    new_tokens = list()\n",
    "    for token in tokens:\n",
    "        if token not in stopword_list:\n",
    "            new_tokens.append(token)\n",
    "    \n",
    "    return new_tokens"
   ]
  },
  {
   "cell_type": "code",
   "execution_count": 35,
   "metadata": {},
   "outputs": [],
   "source": [
    "## open stopword list txt\n",
    "f = open('tala_stopwords.txt', 'r')\n",
    "stopword_list = f.read()\n",
    "f.close()\n",
    "\n",
    "## do normalize\n",
    "for i, row in chats.iterrows():\n",
    "    tokens = row['messages']\n",
    "    # do filtering\n",
    "    new_tokens = filtering(stopword_list, tokens)\n",
    "    \n",
    "    #replace current message value in df\n",
    "    chats.at[i, 'messages'] = new_tokens"
   ]
  },
  {
   "cell_type": "code",
   "execution_count": 36,
   "metadata": {},
   "outputs": [
    {
     "data": {
      "text/html": [
       "<div>\n",
       "<style scoped>\n",
       "    .dataframe tbody tr th:only-of-type {\n",
       "        vertical-align: middle;\n",
       "    }\n",
       "\n",
       "    .dataframe tbody tr th {\n",
       "        vertical-align: top;\n",
       "    }\n",
       "\n",
       "    .dataframe thead th {\n",
       "        text-align: right;\n",
       "    }\n",
       "</style>\n",
       "<table border=\"1\" class=\"dataframe\">\n",
       "  <thead>\n",
       "    <tr style=\"text-align: right;\">\n",
       "      <th></th>\n",
       "      <th>messages</th>\n",
       "      <th>sentiment</th>\n",
       "    </tr>\n",
       "  </thead>\n",
       "  <tbody>\n",
       "    <tr>\n",
       "      <th>0</th>\n",
       "      <td>[selamat, pagi, mohon, maaf, mengganggu, mahas...</td>\n",
       "      <td>1</td>\n",
       "    </tr>\n",
       "    <tr>\n",
       "      <th>1</th>\n",
       "      <td>[whatsapp, alaykumsalam, via, whatsapp, iya]</td>\n",
       "      <td>1</td>\n",
       "    </tr>\n",
       "    <tr>\n",
       "      <th>2</th>\n",
       "      <td>[perihal, bimbingannya, ketentuan, jam]</td>\n",
       "      <td>1</td>\n",
       "    </tr>\n",
       "    <tr>\n",
       "      <th>3</th>\n",
       "      <td>[kamis, jumat]</td>\n",
       "      <td>1</td>\n",
       "    </tr>\n",
       "    <tr>\n",
       "      <th>4</th>\n",
       "      <td>[pelaksanaan, p0, ditentukan, dibahas, bimbing...</td>\n",
       "      <td>1</td>\n",
       "    </tr>\n",
       "  </tbody>\n",
       "</table>\n",
       "</div>"
      ],
      "text/plain": [
       "                                            messages  sentiment\n",
       "0  [selamat, pagi, mohon, maaf, mengganggu, mahas...          1\n",
       "1       [whatsapp, alaykumsalam, via, whatsapp, iya]          1\n",
       "2            [perihal, bimbingannya, ketentuan, jam]          1\n",
       "3                                     [kamis, jumat]          1\n",
       "4  [pelaksanaan, p0, ditentukan, dibahas, bimbing...          1"
      ]
     },
     "execution_count": 36,
     "metadata": {},
     "output_type": "execute_result"
    }
   ],
   "source": [
    "chats.head()"
   ]
  },
  {
   "cell_type": "markdown",
   "metadata": {},
   "source": [
    "### 5. Stemming"
   ]
  },
  {
   "cell_type": "code",
   "execution_count": 37,
   "metadata": {},
   "outputs": [],
   "source": [
    "## stemming function\n",
    "def stemming(stemmer, tokens):\n",
    "    \"\"\" Stemming: returns words to its original form.\n",
    "        Since non-alphanumeric will be discarded by using StemmerFactory(),\n",
    "        This function will do stemming if the token values neither [dosen] nor [mhs].\n",
    "    \"\"\"\n",
    "    new_tokens = list()\n",
    "    for token in tokens:\n",
    "        new_value = stemmer.stem(token)\n",
    "        new_tokens.append(new_value)\n",
    "    \n",
    "    return new_tokens"
   ]
  },
  {
   "cell_type": "code",
   "execution_count": 39,
   "metadata": {},
   "outputs": [],
   "source": [
    "## create stemmer object\n",
    "stemmer = StemmerFactory().create_stemmer()\n",
    "\n",
    "## do normalize\n",
    "for i, row in chats.iterrows():\n",
    "    tokens = row['messages']\n",
    "    # do filtering\n",
    "    new_tokens = stemming(stemmer, tokens)\n",
    "    \n",
    "    #replace current message value in df\n",
    "    chats.at[i, 'messages'] = new_tokens"
   ]
  },
  {
   "cell_type": "code",
   "execution_count": 42,
   "metadata": {},
   "outputs": [
    {
     "data": {
      "text/html": [
       "<div>\n",
       "<style scoped>\n",
       "    .dataframe tbody tr th:only-of-type {\n",
       "        vertical-align: middle;\n",
       "    }\n",
       "\n",
       "    .dataframe tbody tr th {\n",
       "        vertical-align: top;\n",
       "    }\n",
       "\n",
       "    .dataframe thead th {\n",
       "        text-align: right;\n",
       "    }\n",
       "</style>\n",
       "<table border=\"1\" class=\"dataframe\">\n",
       "  <thead>\n",
       "    <tr style=\"text-align: right;\">\n",
       "      <th></th>\n",
       "      <th>messages</th>\n",
       "      <th>sentiment</th>\n",
       "    </tr>\n",
       "  </thead>\n",
       "  <tbody>\n",
       "    <tr>\n",
       "      <th>0</th>\n",
       "      <td>[selamat, pagi, mohon, maaf, ganggu, mahasiswa...</td>\n",
       "      <td>1</td>\n",
       "    </tr>\n",
       "    <tr>\n",
       "      <th>1</th>\n",
       "      <td>[whatsapp, alaykumsalam, via, whatsapp, iya]</td>\n",
       "      <td>1</td>\n",
       "    </tr>\n",
       "    <tr>\n",
       "      <th>2</th>\n",
       "      <td>[perihal, bimbing, tentu, jam]</td>\n",
       "      <td>1</td>\n",
       "    </tr>\n",
       "    <tr>\n",
       "      <th>3</th>\n",
       "      <td>[kamis, jumat]</td>\n",
       "      <td>1</td>\n",
       "    </tr>\n",
       "    <tr>\n",
       "      <th>4</th>\n",
       "      <td>[laksana, p0, tentu, bahas, bimbing, iya]</td>\n",
       "      <td>1</td>\n",
       "    </tr>\n",
       "  </tbody>\n",
       "</table>\n",
       "</div>"
      ],
      "text/plain": [
       "                                            messages  sentiment\n",
       "0  [selamat, pagi, mohon, maaf, ganggu, mahasiswa...          1\n",
       "1       [whatsapp, alaykumsalam, via, whatsapp, iya]          1\n",
       "2                     [perihal, bimbing, tentu, jam]          1\n",
       "3                                     [kamis, jumat]          1\n",
       "4          [laksana, p0, tentu, bahas, bimbing, iya]          1"
      ]
     },
     "execution_count": 42,
     "metadata": {},
     "output_type": "execute_result"
    }
   ],
   "source": [
    "chats.head()"
   ]
  },
  {
   "cell_type": "markdown",
   "metadata": {},
   "source": [
    "### 6. export to csv"
   ]
  },
  {
   "cell_type": "code",
   "execution_count": 43,
   "metadata": {},
   "outputs": [],
   "source": [
    "chats.to_csv('preprocessing.csv', index=False)"
   ]
  }
 ],
 "metadata": {
  "kernelspec": {
   "display_name": "Python 3",
   "language": "python",
   "name": "python3"
  },
  "language_info": {
   "codemirror_mode": {
    "name": "ipython",
    "version": 3
   },
   "file_extension": ".py",
   "mimetype": "text/x-python",
   "name": "python",
   "nbconvert_exporter": "python",
   "pygments_lexer": "ipython3",
   "version": "3.8.7"
  }
 },
 "nbformat": 4,
 "nbformat_minor": 4
}
