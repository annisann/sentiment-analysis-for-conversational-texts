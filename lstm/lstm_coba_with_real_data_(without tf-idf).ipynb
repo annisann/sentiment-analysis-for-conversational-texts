{
 "cells": [
  {
   "cell_type": "code",
   "execution_count": 1,
   "id": "great-tolerance",
   "metadata": {},
   "outputs": [],
   "source": [
    "import pandas as pd\n",
    "import numpy as np\n",
    "\n",
    "import torch\n",
    "from torch.utils.data import DataLoader, TensorDataset\n",
    "import torch.nn as nn"
   ]
  },
  {
   "cell_type": "code",
   "execution_count": 2,
   "id": "radical-target",
   "metadata": {},
   "outputs": [],
   "source": [
    "chats_data = pd.read_csv('../preprocessing/preprocessing.csv')"
   ]
  },
  {
   "cell_type": "code",
   "execution_count": 3,
   "id": "legal-mailing",
   "metadata": {},
   "outputs": [
    {
     "data": {
      "text/html": [
       "<div>\n",
       "<style scoped>\n",
       "    .dataframe tbody tr th:only-of-type {\n",
       "        vertical-align: middle;\n",
       "    }\n",
       "\n",
       "    .dataframe tbody tr th {\n",
       "        vertical-align: top;\n",
       "    }\n",
       "\n",
       "    .dataframe thead th {\n",
       "        text-align: right;\n",
       "    }\n",
       "</style>\n",
       "<table border=\"1\" class=\"dataframe\">\n",
       "  <thead>\n",
       "    <tr style=\"text-align: right;\">\n",
       "      <th></th>\n",
       "      <th>messages</th>\n",
       "      <th>sentiment</th>\n",
       "    </tr>\n",
       "  </thead>\n",
       "  <tbody>\n",
       "    <tr>\n",
       "      <th>0</th>\n",
       "      <td>['selamat', 'pagi', 'mohon', 'maaf', 'ganggu',...</td>\n",
       "      <td>1</td>\n",
       "    </tr>\n",
       "    <tr>\n",
       "      <th>1</th>\n",
       "      <td>['whatsapp', 'alaykumsalam', 'via', 'whatsapp'...</td>\n",
       "      <td>1</td>\n",
       "    </tr>\n",
       "    <tr>\n",
       "      <th>2</th>\n",
       "      <td>['perihal', 'bimbing', 'tentu', 'jam']</td>\n",
       "      <td>1</td>\n",
       "    </tr>\n",
       "    <tr>\n",
       "      <th>3</th>\n",
       "      <td>['kamis', 'jumat']</td>\n",
       "      <td>1</td>\n",
       "    </tr>\n",
       "    <tr>\n",
       "      <th>4</th>\n",
       "      <td>['laksana', 'p0', 'tentu', 'bahas', 'bimbing',...</td>\n",
       "      <td>1</td>\n",
       "    </tr>\n",
       "  </tbody>\n",
       "</table>\n",
       "</div>"
      ],
      "text/plain": [
       "                                            messages  sentiment\n",
       "0  ['selamat', 'pagi', 'mohon', 'maaf', 'ganggu',...          1\n",
       "1  ['whatsapp', 'alaykumsalam', 'via', 'whatsapp'...          1\n",
       "2             ['perihal', 'bimbing', 'tentu', 'jam']          1\n",
       "3                                 ['kamis', 'jumat']          1\n",
       "4  ['laksana', 'p0', 'tentu', 'bahas', 'bimbing',...          1"
      ]
     },
     "execution_count": 3,
     "metadata": {},
     "output_type": "execute_result"
    }
   ],
   "source": [
    "chats_data.head()"
   ]
  },
  {
   "cell_type": "markdown",
   "id": "decent-valuation",
   "metadata": {},
   "source": [
    "#### 1. convert messages into list"
   ]
  },
  {
   "cell_type": "code",
   "execution_count": 6,
   "id": "quantitative-alert",
   "metadata": {},
   "outputs": [],
   "source": [
    "messages_list = list()\n",
    "\n",
    "for message in chats_data['messages']:\n",
    "    message = message.replace('[', '').replace('\\'', '').replace(']', '')\n",
    "    message_list = message.split(', ')\n",
    "    messages_list.append(message_list)"
   ]
  },
  {
   "cell_type": "code",
   "execution_count": 7,
   "id": "played-convert",
   "metadata": {},
   "outputs": [
    {
     "name": "stdout",
     "output_type": "stream",
     "text": [
      "1004\n",
      "[['selamat', 'pagi', 'mohon', 'maaf', 'ganggu', 'mahasiswa', 'teknik', 'informatika', 'angkat', 'informasi', 'bimbing', 'skripsi', 'dosen', 'bimbing', 'perihal', 'surat', 'tugas', 'terbit', 'tanggal', 'oktober', 'komunikasi', 'kait', 'kerja', 'skripsi', 'media', 'iya', 'mohon', 'maaf', 'terima', 'kasih', 'wassalamualaikum'], ['whatsapp', 'alaykumsalam', 'via', 'whatsapp', 'iya'], ['perihal', 'bimbing', 'tentu', 'jam'], ['kamis', 'jumat'], ['laksana', 'p0', 'tentu', 'bahas', 'bimbing', 'iya']]\n"
     ]
    }
   ],
   "source": [
    "print(len(messages_list))\n",
    "print(messages_list[:5])"
   ]
  },
  {
   "cell_type": "markdown",
   "id": "legislative-lexington",
   "metadata": {},
   "source": [
    "#### 2. make token set list from dataset"
   ]
  },
  {
   "cell_type": "code",
   "execution_count": 8,
   "id": "auburn-transsexual",
   "metadata": {},
   "outputs": [],
   "source": [
    "token_set_list = list()\n",
    "\n",
    "if messages_list:\n",
    "    for message in messages_list:\n",
    "        for word in message:\n",
    "            if word not in token_set_list:\n",
    "                token_set_list.append(word)"
   ]
  },
  {
   "cell_type": "code",
   "execution_count": 9,
   "id": "nervous-control",
   "metadata": {},
   "outputs": [
    {
     "name": "stdout",
     "output_type": "stream",
     "text": [
      "1299\n",
      "['selamat', 'pagi', 'mohon', 'maaf']\n"
     ]
    }
   ],
   "source": [
    "print(len(token_set_list))\n",
    "print(token_set_list[:4])"
   ]
  },
  {
   "cell_type": "markdown",
   "id": "contrary-kitchen",
   "metadata": {},
   "source": [
    "#### 3. convert message word to int"
   ]
  },
  {
   "cell_type": "code",
   "execution_count": 10,
   "id": "accessory-newark",
   "metadata": {},
   "outputs": [],
   "source": [
    "messages_list_int = list()\n",
    "\n",
    "if token_set_list:\n",
    "    for message_list in messages_list:\n",
    "        new_message_list = list()\n",
    "        for message in message_list:\n",
    "            new_message_list.append(token_set_list.index(message)+1)\n",
    "        messages_list_int.append(new_message_list)"
   ]
  },
  {
   "cell_type": "code",
   "execution_count": 11,
   "id": "active-future",
   "metadata": {},
   "outputs": [
    {
     "name": "stdout",
     "output_type": "stream",
     "text": [
      "1004\n",
      "[[1, 2, 3, 4, 5, 6, 7, 8, 9, 10, 11, 12, 13, 11, 14, 15, 16, 17, 18, 19, 20, 21, 22, 12, 23, 24, 3, 4, 25, 26, 27], [28, 29, 30, 28, 24], [14, 11, 31, 32], [33, 34], [35, 36, 31, 37, 11, 24]]\n"
     ]
    }
   ],
   "source": [
    "print(len(messages_list_int))\n",
    "print(messages_list_int[:5])"
   ]
  },
  {
   "cell_type": "markdown",
   "id": "spread-certificate",
   "metadata": {},
   "source": [
    "#### 4. padding messages list int (so each list have same size)"
   ]
  },
  {
   "cell_type": "code",
   "execution_count": 12,
   "id": "overhead-occasions",
   "metadata": {},
   "outputs": [],
   "source": [
    "messages_list_int_pad = list()\n",
    "list_size = len(token_set_list)\n",
    "\n",
    "if messages_list_int:\n",
    "    for message_list in messages_list_int:\n",
    "        new_message_list = list()\n",
    "        size_diff = list_size - len(message_list)\n",
    "        for each in range(size_diff):\n",
    "            new_message_list.append(0)\n",
    "        new_message_list += message_list\n",
    "        messages_list_int_pad.append(new_message_list)"
   ]
  },
  {
   "cell_type": "code",
   "execution_count": 13,
   "id": "quiet-cemetery",
   "metadata": {},
   "outputs": [
    {
     "name": "stdout",
     "output_type": "stream",
     "text": [
      "1004\n",
      "[0, 0, 0, 0, 0, 0, 0, 0, 0, 0, 0, 0, 0, 0, 0, 0, 0, 0, 0, 0, 0, 0, 0, 0, 0, 0, 0, 0, 0, 0, 0, 0, 0, 0, 0, 0, 0, 0, 0, 0, 0, 0, 0, 0, 0, 0, 0, 0, 0, 0, 0, 0, 0, 0, 0, 0, 0, 0, 0, 0, 0, 0, 0, 0, 0, 0, 0, 0, 0, 0, 0, 0, 0, 0, 0, 0, 0, 0, 0, 0, 0, 1, 2, 3, 4, 5, 21, 12, 95, 119, 58, 12, 79, 58, 12, 25, 26, 164]\n"
     ]
    }
   ],
   "source": [
    "print(len(messages_list_int_pad))\n",
    "print(messages_list_int_pad[-1][1200:-1])"
   ]
  },
  {
   "cell_type": "markdown",
   "id": "established-suffering",
   "metadata": {},
   "source": [
    "#### change negative sentiment labels from -1 to 0"
   ]
  },
  {
   "cell_type": "code",
   "execution_count": 14,
   "id": "mobile-advocate",
   "metadata": {},
   "outputs": [],
   "source": [
    "for i, row in chats_data.iterrows():\n",
    "    sentiment = row['sentiment']\n",
    "    \n",
    "    if sentiment == -1:\n",
    "        #replace current message value in df\n",
    "        chats_data.at[i, 'sentiment'] = 0"
   ]
  },
  {
   "cell_type": "markdown",
   "id": "above-income",
   "metadata": {},
   "source": [
    "#### 5. train, valid, and test dataset split"
   ]
  },
  {
   "cell_type": "code",
   "execution_count": 15,
   "id": "asian-macintosh",
   "metadata": {},
   "outputs": [],
   "source": [
    "data_size = chats_data.shape[0]\n",
    "split_perc = 0.8\n",
    "split_lim = int(split_perc * data_size)\n",
    "\n",
    "train_data = messages_list_int_pad[0:split_lim]\n",
    "train_labels = chats_data['sentiment'][0:split_lim]\n",
    "\n",
    "remain_data = messages_list_int_pad[split_lim:]\n",
    "remain_labels = chats_data['sentiment'][split_lim:]\n",
    "\n",
    "remain_data_size = len(remain_data)\n",
    "split_lim = int(0.5 * remain_data_size)\n",
    "\n",
    "valid_data = remain_data[0:split_lim]\n",
    "valid_labels = remain_labels[0:split_lim]\n",
    "\n",
    "test_data = remain_data[split_lim:]\n",
    "test_labels = remain_labels[split_lim:]"
   ]
  },
  {
   "cell_type": "code",
   "execution_count": 16,
   "id": "third-shock",
   "metadata": {},
   "outputs": [
    {
     "name": "stdout",
     "output_type": "stream",
     "text": [
      "train data size: 803, labels size: 803\n",
      "valid data size: 100, labels size: 100\n",
      "test data size: 101, labels size: 101\n",
      "total: 1004\n"
     ]
    }
   ],
   "source": [
    "print(\n",
    "    f'train data size: {len(train_data)}, labels size: {len(train_labels)}',\n",
    "    f'valid data size: {len(valid_data)}, labels size: {len(valid_labels)}',\n",
    "    f'test data size: {len(test_data)}, labels size: {len(test_labels)}',\n",
    "    f'total: {len(train_data) + len(valid_data) + len(test_data)}',\n",
    "    sep='\\n'\n",
    ")"
   ]
  },
  {
   "cell_type": "markdown",
   "id": "separate-grocery",
   "metadata": {},
   "source": [
    "#### 6. create torch dataloader"
   ]
  },
  {
   "cell_type": "code",
   "execution_count": 17,
   "id": "suitable-curve",
   "metadata": {},
   "outputs": [],
   "source": [
    "train_tensor_data = TensorDataset(\n",
    "    torch.ShortTensor(train_data),\n",
    "    torch.from_numpy(train_labels.values)\n",
    ")\n",
    "valid_tensor_data = TensorDataset(\n",
    "    torch.ShortTensor(valid_data),\n",
    "    torch.from_numpy(valid_labels.values)\n",
    ")\n",
    "test_tensor_data = TensorDataset(\n",
    "    torch.ShortTensor(test_data),\n",
    "    torch.from_numpy(test_labels.values)\n",
    ")\n",
    "\n",
    "train_loader = DataLoader(train_tensor_data, shuffle=True)\n",
    "valid_loader = DataLoader(valid_tensor_data, shuffle=True)\n",
    "test_loader = DataLoader(test_tensor_data, shuffle=True)"
   ]
  },
  {
   "cell_type": "code",
   "execution_count": 18,
   "id": "enclosed-leone",
   "metadata": {},
   "outputs": [
    {
     "name": "stdout",
     "output_type": "stream",
     "text": [
      "sample input size: torch.Size([1, 1299])\n",
      "sample input:\n",
      "tensor([[  0,   0,   0,  ..., 444,  13, 138]], dtype=torch.int16)\n",
      "\n",
      "sample label size: torch.Size([1])\n",
      "sample label:\n",
      "tensor([0])\n"
     ]
    }
   ],
   "source": [
    "data_iter = iter(train_loader)\n",
    "sample_x, sample_y = data_iter.next()\n",
    "\n",
    "print(\n",
    "    f'sample input size: {sample_x.size()}',\n",
    "    'sample input:',\n",
    "    f'{sample_x}\\n',\n",
    "    f'sample label size: {sample_y.size()}',\n",
    "    'sample label:',\n",
    "    sample_y,\n",
    "    sep='\\n'\n",
    ")"
   ]
  },
  {
   "cell_type": "code",
   "execution_count": 39,
   "id": "severe-reconstruction",
   "metadata": {},
   "outputs": [],
   "source": [
    "class SentimentLSTM(nn.Module):\n",
    "    def __init__(\n",
    "        self, \n",
    "        embed_dim,\n",
    "        hidden_dim,\n",
    "        vocab_size,\n",
    "        target_size\n",
    "    ):\n",
    "        super().__init__()\n",
    "        \n",
    "        self.lstm = nn.LSTM(embed_dim, hidden_dim)\n",
    "        self.hidden2tag = nn.Linear(hidden_dim, target_size)\n",
    "        self.sig = nn.Sigmoid()\n",
    "    \n",
    "    def forward(self, session_array):\n",
    "        #session array ex: [[1, 2, 4, ..], [90, 12, 91, ..]]\n",
    "        #make session array as 3 dim (use unsqueeze)\n",
    "        session_array = session_array.unsqueeze(1)\n",
    "        \n",
    "        lstm_out, _ = self.lstm(session_array)\n",
    "        \n",
    "        #squeeze lstm_out\n",
    "        lstm_out = lstm_out.squeeze()\n",
    "        \n",
    "        tag_space = self.hidden2tag(lstm_out)\n",
    "        tag_scores = self.sig(tag_space)\n",
    "        print(tag_scores)"
   ]
  },
  {
   "cell_type": "code",
   "execution_count": 42,
   "id": "velvet-daily",
   "metadata": {},
   "outputs": [
    {
     "name": "stdout",
     "output_type": "stream",
     "text": [
      "tensor([[ 0,  0,  0,  ..., 25, 26, 27],\n",
      "        [ 0,  0,  0,  ..., 30, 28, 24],\n",
      "        [ 0,  0,  0,  ..., 11, 31, 32],\n",
      "        [ 0,  0,  0,  ...,  0, 33, 34],\n",
      "        [ 0,  0,  0,  ..., 37, 11, 24]], dtype=torch.int16)\n"
     ]
    }
   ],
   "source": [
    "test = messages_list_int_pad[0:5]\n",
    "test = torch.ShortTensor(test)\n",
    "print(test)"
   ]
  },
  {
   "cell_type": "code",
   "execution_count": null,
   "id": "heard-laundry",
   "metadata": {},
   "outputs": [],
   "source": [
    "model = SentimentLSTM(\n",
    "    embed_dim=6,\n",
    "    hidden_dim=\n",
    ")"
   ]
  }
 ],
 "metadata": {
  "kernelspec": {
   "display_name": "Python 3",
   "language": "python",
   "name": "python3"
  },
  "language_info": {
   "codemirror_mode": {
    "name": "ipython",
    "version": 3
   },
   "file_extension": ".py",
   "mimetype": "text/x-python",
   "name": "python",
   "nbconvert_exporter": "python",
   "pygments_lexer": "ipython3",
   "version": "3.8.7"
  }
 },
 "nbformat": 4,
 "nbformat_minor": 5
}
