{
 "cells": [
  {
   "cell_type": "code",
   "execution_count": 1,
   "id": "entertaining-perception",
   "metadata": {},
   "outputs": [
    {
     "data": {
      "text/plain": [
       "<torch._C.Generator at 0x22ef525ce30>"
      ]
     },
     "execution_count": 1,
     "metadata": {},
     "output_type": "execute_result"
    }
   ],
   "source": [
    "import torch\n",
    "import torch.nn as nn\n",
    "import torch.nn.functional as F\n",
    "import torch.optim as optim\n",
    "\n",
    "torch.manual_seed(1)"
   ]
  },
  {
   "cell_type": "code",
   "execution_count": 2,
   "id": "qualified-survey",
   "metadata": {},
   "outputs": [
    {
     "name": "stdout",
     "output_type": "stream",
     "text": [
      "input1 [tensor([[-0.5525,  0.6355, -0.3968]]), tensor([[-0.6571, -1.6428,  0.9803]]), tensor([[-0.0421, -0.8206,  0.3133]]), tensor([[-1.1352,  0.3773, -0.2824]]), tensor([[-2.5667, -1.4303,  0.5009]])] \n",
      "\n",
      "input2 tensor([[[-0.5525,  0.6355, -0.3968]],\n",
      "\n",
      "        [[-0.6571, -1.6428,  0.9803]],\n",
      "\n",
      "        [[-0.0421, -0.8206,  0.3133]],\n",
      "\n",
      "        [[-1.1352,  0.3773, -0.2824]],\n",
      "\n",
      "        [[-2.5667, -1.4303,  0.5009]]]) \n",
      "\n",
      "hidden (tensor([[[-0.1473,  0.6272,  1.0935]]]), tensor([[[ 0.0939,  1.2381, -1.3459]]])) \n",
      "\n",
      "out tensor([[[-0.0187,  0.1713, -0.2944]],\n",
      "\n",
      "        [[-0.3521,  0.1026, -0.2971]],\n",
      "\n",
      "        [[-0.3191,  0.0781, -0.1957]],\n",
      "\n",
      "        [[-0.1634,  0.0941, -0.1637]],\n",
      "\n",
      "        [[-0.3368,  0.0959, -0.0538]]], grad_fn=<StackBackward>) \n",
      "\n",
      "hidden (tensor([[[-0.3368,  0.0959, -0.0538]]], grad_fn=<StackBackward>), tensor([[[-0.9825,  0.4715, -0.0633]]], grad_fn=<StackBackward>)) \n",
      "\n"
     ]
    }
   ],
   "source": [
    "lstm = nn.LSTM(3, 3) #input dim 3, output dim 3\n",
    "inputs = [torch.randn(1, 3) for _ in range(5)] #make a seq of 5\n",
    "print('input1', inputs, '\\n')\n",
    "\n",
    "#init hidden state\n",
    "hidden = (\n",
    "    torch.randn(1, 1, 3),\n",
    "    torch.randn(1, 1, 3)\n",
    ")\n",
    "\n",
    "inputs = torch.cat(inputs).view(len(inputs), 1, -1)\n",
    "print('input2', inputs, '\\n')\n",
    "hidden = (torch.randn(1, 1, 3), torch.randn(1, 1, 3))\n",
    "print('hidden', hidden, '\\n')\n",
    "out, hidden = lstm(inputs, hidden)\n",
    "print('out', out, '\\n')\n",
    "print('hidden', hidden, '\\n')"
   ]
  },
  {
   "cell_type": "code",
   "execution_count": 3,
   "id": "divine-springfield",
   "metadata": {},
   "outputs": [],
   "source": [
    "def prepare_sequence(seq, to_ix):\n",
    "    idxs = [to_ix[w] for w in seq]\n",
    "    return torch.tensor(idxs, dtype=torch.long)"
   ]
  },
  {
   "cell_type": "code",
   "execution_count": 16,
   "id": "demanding-windows",
   "metadata": {},
   "outputs": [
    {
     "name": "stdout",
     "output_type": "stream",
     "text": [
      "{'The': 0, 'dog': 1, 'ate': 2, 'the': 3, 'apple': 4, 'Everybody': 5, 'read': 6, 'that': 7, 'book': 8}\n"
     ]
    }
   ],
   "source": [
    "training_data = [\n",
    "    (\"The dog ate the apple\".split(), [\"DET\", \"NN\", \"V\", \"DET\", \"NN\"]),\n",
    "    (\"Everybody read that book\".split(), [\"NN\", \"V\", \"DET\", \"NN\"]),\n",
    "    ([\"book\"], [\"NN\"])\n",
    "]\n",
    "word_to_ix = {}\n",
    "for sent, tags in training_data:\n",
    "    for word in sent:\n",
    "        if word not in word_to_ix:\n",
    "            word_to_ix[word] = len(word_to_ix)\n",
    "print(word_to_ix)\n",
    "tag_to_ix = {\"DET\": 0, \"NN\": 1, \"V\": 2}\n",
    "\n",
    "EMBEDDING_DIM = 6\n",
    "HIDDEN_DIM = 6"
   ]
  },
  {
   "cell_type": "code",
   "execution_count": 5,
   "id": "indian-winter",
   "metadata": {},
   "outputs": [
    {
     "name": "stdout",
     "output_type": "stream",
     "text": [
      "tensor([8]) tensor([1])\n"
     ]
    }
   ],
   "source": [
    "inputs = prepare_sequence(training_data[2][0], word_to_ix)\n",
    "targets = prepare_sequence(training_data[2][1], tag_to_ix)\n",
    "print(inputs, targets)"
   ]
  },
  {
   "cell_type": "code",
   "execution_count": 17,
   "id": "valid-contrary",
   "metadata": {},
   "outputs": [],
   "source": [
    "class LSTMTagger(nn.Module):\n",
    "    \n",
    "    def __init__(\n",
    "        self,\n",
    "        embedding_dim,\n",
    "        hidden_dim,\n",
    "        vocab_size,\n",
    "        target_size\n",
    "    ):\n",
    "        super(LSTMTagger, self).__init__()\n",
    "        \n",
    "        self.hidden_dim = hidden_dim\n",
    "        self.word_embeddings = nn.Embedding(vocab_size, embedding_dim)\n",
    "        self.lstm = nn.LSTM(embedding_dim, hidden_dim)\n",
    "        self.hidden2tag = nn.Linear(hidden_dim, target_size)\n",
    "        self.sig = nn.Sigmoid()\n",
    "    \n",
    "    def forward(self, sentence):\n",
    "        print('sentence (per word)', sentence, '\\n')\n",
    "        embeds = self.word_embeddings(sentence)\n",
    "        print('embed', embeds, '\\n')\n",
    "        print('embed view', embeds.view(len(sentence), 1, -1), '\\n')\n",
    "        lstm_out, _ = self.lstm(embeds.view(len(sentence), 1, -1))\n",
    "        print('lstm out', lstm_out, '\\n')\n",
    "        print('lstm out sq', lstm_out.squeeze(), '\\n')\n",
    "        print('lstm out view', lstm_out.view(len(sentence), -1), '\\n')\n",
    "        tag_space = self.hidden2tag(lstm_out.view(len(sentence), -1))\n",
    "        print('tag_space', tag_space, '\\n')\n",
    "#         tag_scores = F.log_softmax(tag_space, dim=1)\n",
    "        tag_scores = self.sig(tag_space)\n",
    "        print('tag_scores', tag_scores, '\\n')\n",
    "        return tag_scores"
   ]
  },
  {
   "cell_type": "code",
   "execution_count": 18,
   "id": "explicit-numbers",
   "metadata": {},
   "outputs": [],
   "source": [
    "model = LSTMTagger(\n",
    "    EMBEDDING_DIM,\n",
    "    HIDDEN_DIM,\n",
    "    len(word_to_ix),\n",
    "    len(tag_to_ix)\n",
    ")\n",
    "loss_function = nn.NLLLoss()\n",
    "optimizer = optim.SGD(model.parameters(), lr=0.1)"
   ]
  },
  {
   "cell_type": "code",
   "execution_count": 20,
   "id": "handmade-scanner",
   "metadata": {},
   "outputs": [
    {
     "name": "stdout",
     "output_type": "stream",
     "text": [
      "tensor([0, 1, 2, 3, 4])\n"
     ]
    }
   ],
   "source": [
    "print(prepare_sequence(training_data[0][0], word_to_ix))"
   ]
  },
  {
   "cell_type": "code",
   "execution_count": 15,
   "id": "intended-washington",
   "metadata": {},
   "outputs": [
    {
     "name": "stdout",
     "output_type": "stream",
     "text": [
      "sentence (per word) tensor([0, 1, 2, 3, 4]) \n",
      "\n",
      "embed tensor([[-1.2868e+00, -7.6861e-01, -4.3937e-01,  4.4948e-01, -2.0128e+00,\n",
      "          3.0877e+00],\n",
      "        [ 2.9216e+00, -1.5525e+00,  1.0192e+00,  6.0317e-02, -9.3970e-01,\n",
      "          1.9988e-01],\n",
      "        [-3.9759e-01,  2.0582e+00,  1.5854e-03,  1.6362e-01, -2.6034e-01,\n",
      "         -3.1155e-01],\n",
      "        [ 8.9364e-01, -1.0561e+00, -1.7766e-01, -4.5042e-01,  1.1441e-01,\n",
      "         -9.6896e-01],\n",
      "        [ 8.7507e-01,  5.5482e-01, -9.7478e-01, -5.9503e-01, -1.2984e+00,\n",
      "          5.4263e-01]]) \n",
      "\n",
      "embed view tensor([[[-1.2868e+00, -7.6861e-01, -4.3937e-01,  4.4948e-01, -2.0128e+00,\n",
      "           3.0877e+00]],\n",
      "\n",
      "        [[ 2.9216e+00, -1.5525e+00,  1.0192e+00,  6.0317e-02, -9.3970e-01,\n",
      "           1.9988e-01]],\n",
      "\n",
      "        [[-3.9759e-01,  2.0582e+00,  1.5854e-03,  1.6362e-01, -2.6034e-01,\n",
      "          -3.1155e-01]],\n",
      "\n",
      "        [[ 8.9364e-01, -1.0561e+00, -1.7766e-01, -4.5042e-01,  1.1441e-01,\n",
      "          -9.6896e-01]],\n",
      "\n",
      "        [[ 8.7507e-01,  5.5482e-01, -9.7478e-01, -5.9503e-01, -1.2984e+00,\n",
      "           5.4263e-01]]]) \n",
      "\n",
      "lstm out tensor([[[ 0.1100, -0.0090,  0.2293, -0.0913,  0.2740,  0.0582]],\n",
      "\n",
      "        [[ 0.0997,  0.2826, -0.1002, -0.3976,  0.3222, -0.1729]],\n",
      "\n",
      "        [[-0.1752, -0.0192,  0.0264, -0.2074,  0.0579, -0.3988]],\n",
      "\n",
      "        [[ 0.0997,  0.0035, -0.1496, -0.0762,  0.0612, -0.3534]],\n",
      "\n",
      "        [[ 0.1555, -0.0923, -0.1253,  0.0308,  0.0868, -0.3054]]]) \n",
      "\n",
      "lstm out sq tensor([[ 0.1100, -0.0090,  0.2293, -0.0913,  0.2740,  0.0582],\n",
      "        [ 0.0997,  0.2826, -0.1002, -0.3976,  0.3222, -0.1729],\n",
      "        [-0.1752, -0.0192,  0.0264, -0.2074,  0.0579, -0.3988],\n",
      "        [ 0.0997,  0.0035, -0.1496, -0.0762,  0.0612, -0.3534],\n",
      "        [ 0.1555, -0.0923, -0.1253,  0.0308,  0.0868, -0.3054]]) \n",
      "\n",
      "lstm out view tensor([[ 0.1100, -0.0090,  0.2293, -0.0913,  0.2740,  0.0582],\n",
      "        [ 0.0997,  0.2826, -0.1002, -0.3976,  0.3222, -0.1729],\n",
      "        [-0.1752, -0.0192,  0.0264, -0.2074,  0.0579, -0.3988],\n",
      "        [ 0.0997,  0.0035, -0.1496, -0.0762,  0.0612, -0.3534],\n",
      "        [ 0.1555, -0.0923, -0.1253,  0.0308,  0.0868, -0.3054]]) \n",
      "\n",
      "tag_space tensor([[ 0.0105, -0.0946,  0.2829],\n",
      "        [ 0.0219, -0.2059,  0.1700],\n",
      "        [ 0.1336, -0.2437,  0.0538],\n",
      "        [ 0.0439, -0.2394,  0.1305],\n",
      "        [ 0.0369, -0.2052,  0.1680]]) \n",
      "\n",
      "tag_scores tensor([[0.5026, 0.4764, 0.5703],\n",
      "        [0.5055, 0.4487, 0.5424],\n",
      "        [0.5333, 0.4394, 0.5134],\n",
      "        [0.5110, 0.4404, 0.5326],\n",
      "        [0.5092, 0.4489, 0.5419]]) \n",
      "\n"
     ]
    }
   ],
   "source": [
    "with torch.no_grad():\n",
    "    inputs = prepare_sequence(training_data[0][0], word_to_ix)\n",
    "    tag_scores = model(inputs)"
   ]
  },
  {
   "cell_type": "code",
   "execution_count": 60,
   "id": "assisted-investment",
   "metadata": {},
   "outputs": [
    {
     "name": "stdout",
     "output_type": "stream",
     "text": [
      "sentence (per word) tensor([0, 1, 2, 3, 4]) \n",
      "\n",
      "embed tensor([[-0.7096, -0.9373, -0.8042,  0.6697, -0.8039, -0.9156],\n",
      "        [-0.4856, -0.7153, -0.7518, -0.0544, -1.0632, -2.4394],\n",
      "        [-0.8824,  0.2072, -2.1338, -0.3505,  0.9777,  1.1637],\n",
      "        [ 0.0376,  0.6117,  0.3842, -0.7206, -2.8958, -0.2158],\n",
      "        [ 0.3358, -0.7199,  0.7512, -1.0954, -0.5538,  1.4367]],\n",
      "       grad_fn=<EmbeddingBackward>) \n",
      "\n",
      "embed view tensor([[[-0.7096, -0.9373, -0.8042,  0.6697, -0.8039, -0.9156]],\n",
      "\n",
      "        [[-0.4856, -0.7153, -0.7518, -0.0544, -1.0632, -2.4394]],\n",
      "\n",
      "        [[-0.8824,  0.2072, -2.1338, -0.3505,  0.9777,  1.1637]],\n",
      "\n",
      "        [[ 0.0376,  0.6117,  0.3842, -0.7206, -2.8958, -0.2158]],\n",
      "\n",
      "        [[ 0.3358, -0.7199,  0.7512, -1.0954, -0.5538,  1.4367]]],\n",
      "       grad_fn=<ViewBackward>) \n",
      "\n",
      "lstm out tensor([[[-0.1965, -0.0402,  0.3115, -0.0392, -0.2654,  0.1014]],\n",
      "\n",
      "        [[-0.3489, -0.0262,  0.5898, -0.2714, -0.3929,  0.0801]],\n",
      "\n",
      "        [[-0.0522, -0.4400,  0.1059,  0.0604, -0.2535, -0.1064]],\n",
      "\n",
      "        [[-0.1634, -0.1275,  0.3640, -0.1555, -0.0775,  0.2000]],\n",
      "\n",
      "        [[-0.0206, -0.2591,  0.1323,  0.2963,  0.0726,  0.1803]]],\n",
      "       grad_fn=<StackBackward>) \n",
      "\n",
      "lstm out view tensor([[-0.1965, -0.0402,  0.3115, -0.0392, -0.2654,  0.1014],\n",
      "        [-0.3489, -0.0262,  0.5898, -0.2714, -0.3929,  0.0801],\n",
      "        [-0.0522, -0.4400,  0.1059,  0.0604, -0.2535, -0.1064],\n",
      "        [-0.1634, -0.1275,  0.3640, -0.1555, -0.0775,  0.2000],\n",
      "        [-0.0206, -0.2591,  0.1323,  0.2963,  0.0726,  0.1803]],\n",
      "       grad_fn=<ViewBackward>) \n",
      "\n",
      "tag_space tensor([[-0.1757,  0.0948, -0.4750],\n",
      "        [-0.0515, -0.0127, -0.6421],\n",
      "        [-0.2804,  0.2274, -0.4362],\n",
      "        [-0.1494,  0.0352, -0.4695],\n",
      "        [-0.3607,  0.2037, -0.2565]], grad_fn=<AddmmBackward>) \n",
      "\n",
      "tag_scores tensor([[0.4562, 0.5237, 0.3834],\n",
      "        [0.4871, 0.4968, 0.3448],\n",
      "        [0.4304, 0.5566, 0.3927],\n",
      "        [0.4627, 0.5088, 0.3847],\n",
      "        [0.4108, 0.5507, 0.4362]], grad_fn=<SigmoidBackward>) \n",
      "\n",
      "targets tensor([0, 1, 2, 0, 1])\n",
      "loss tensor(-0.4718, grad_fn=<NllLossBackward>)\n",
      "sentence (per word) tensor([5, 6, 7, 8]) \n",
      "\n",
      "embed tensor([[-0.2310,  0.8808, -1.0892,  0.4915,  0.3714, -0.3540],\n",
      "        [-1.0589, -0.0739, -0.7943,  0.0783,  1.0232, -0.0255],\n",
      "        [ 0.1006,  0.0798,  1.3103,  1.1130, -1.1951,  1.3275],\n",
      "        [ 0.0148, -0.0570, -0.8004, -0.8911, -0.7798,  0.0865]],\n",
      "       grad_fn=<EmbeddingBackward>) \n",
      "\n",
      "embed view tensor([[[-0.2310,  0.8808, -1.0892,  0.4915,  0.3714, -0.3540]],\n",
      "\n",
      "        [[-1.0589, -0.0739, -0.7943,  0.0783,  1.0232, -0.0255]],\n",
      "\n",
      "        [[ 0.1006,  0.0798,  1.3103,  1.1130, -1.1951,  1.3275]],\n",
      "\n",
      "        [[ 0.0148, -0.0570, -0.8004, -0.8911, -0.7798,  0.0865]]],\n",
      "       grad_fn=<ViewBackward>) \n",
      "\n",
      "lstm out tensor([[[-0.2227, -0.2077, -0.0689, -0.0160, -0.0757, -0.0185]],\n",
      "\n",
      "        [[-0.3044, -0.3120, -0.1420,  0.0433, -0.1615, -0.0492]],\n",
      "\n",
      "        [[-0.2266, -0.3001,  0.1085,  0.0526,  0.0216,  0.0760]],\n",
      "\n",
      "        [[-0.2154, -0.2649,  0.0178,  0.1977,  0.0406,  0.0750]]],\n",
      "       grad_fn=<StackBackward>) \n",
      "\n",
      "lstm out view tensor([[-0.2227, -0.2077, -0.0689, -0.0160, -0.0757, -0.0185],\n",
      "        [-0.3044, -0.3120, -0.1420,  0.0433, -0.1615, -0.0492],\n",
      "        [-0.2266, -0.3001,  0.1085,  0.0526,  0.0216,  0.0760],\n",
      "        [-0.2154, -0.2649,  0.0178,  0.1977,  0.0406,  0.0750]],\n",
      "       grad_fn=<ViewBackward>) \n",
      "\n",
      "tag_space tensor([[-0.3612,  0.2351, -0.4062],\n",
      "        [-0.4049,  0.2621, -0.4170],\n",
      "        [-0.3524,  0.1929, -0.3887],\n",
      "        [-0.4224,  0.2460, -0.3247]], grad_fn=<AddmmBackward>) \n",
      "\n",
      "tag_scores tensor([[0.4107, 0.5585, 0.3998],\n",
      "        [0.4001, 0.5651, 0.3972],\n",
      "        [0.4128, 0.5481, 0.4040],\n",
      "        [0.3959, 0.5612, 0.4195]], grad_fn=<SigmoidBackward>) \n",
      "\n",
      "targets tensor([1, 2, 0, 1])\n",
      "loss tensor(-0.4824, grad_fn=<NllLossBackward>)\n",
      "sentence (per word) tensor([8]) \n",
      "\n",
      "embed tensor([[ 0.0148, -0.0570, -0.8005, -0.8915, -0.7795,  0.0869]],\n",
      "       grad_fn=<EmbeddingBackward>) \n",
      "\n",
      "embed view tensor([[[ 0.0148, -0.0570, -0.8005, -0.8915, -0.7795,  0.0869]]],\n",
      "       grad_fn=<ViewBackward>) \n",
      "\n",
      "lstm out tensor([[[-0.0707, -0.1102, -0.0318,  0.2068,  0.0216,  0.0493]]],\n",
      "       grad_fn=<StackBackward>) \n",
      "\n",
      "lstm out view tensor([[-0.0707, -0.1102, -0.0318,  0.2068,  0.0216,  0.0493]],\n",
      "       grad_fn=<ViewBackward>) \n",
      "\n",
      "tag_space tensor([[-0.3838,  0.2825, -0.2780]], grad_fn=<AddmmBackward>) \n",
      "\n",
      "tag_scores tensor([[0.4052, 0.5702, 0.4310]], grad_fn=<SigmoidBackward>) \n",
      "\n",
      "targets tensor([1])\n",
      "loss tensor(-0.5702, grad_fn=<NllLossBackward>)\n"
     ]
    }
   ],
   "source": [
    "for epoch in range(1):\n",
    "    for sentence, tags in training_data:\n",
    "        model.zero_grad()\n",
    "        sentence_in = prepare_sequence(sentence, word_to_ix)\n",
    "        targets = prepare_sequence(tags, tag_to_ix)\n",
    "        \n",
    "        tag_scores = model(sentence_in)\n",
    "        print('targets', targets)\n",
    "        loss = loss_function(tag_scores, targets)\n",
    "        print('loss', loss)\n",
    "        \n",
    "        loss.backward()\n",
    "        optimizer.step()"
   ]
  },
  {
   "cell_type": "code",
   "execution_count": 55,
   "id": "foster-groove",
   "metadata": {},
   "outputs": [
    {
     "name": "stdout",
     "output_type": "stream",
     "text": [
      "sentence (per word) tensor([8]) \n",
      "\n",
      "embed tensor([[ 1.2678, -1.3178,  2.1215, -2.3513, -0.3042, -1.2749]]) \n",
      "\n",
      "embed view tensor([[[ 1.2678, -1.3178,  2.1215, -2.3513, -0.3042, -1.2749]]]) \n",
      "\n",
      "lstm out tensor([[[-0.0943,  0.1698,  0.0422, -0.1209, -0.0135, -0.3966]]]) \n",
      "\n",
      "lstm out view tensor([[-0.0943,  0.1698,  0.0422, -0.1209, -0.0135, -0.3966]]) \n",
      "\n",
      "tag_space tensor([[-0.0651,  0.0510,  0.4032]]) \n",
      "\n",
      "tag_scores tensor([[0.4837, 0.5128, 0.5995]]) \n",
      "\n",
      "tensor([[0.4837, 0.5128, 0.5995]])\n"
     ]
    }
   ],
   "source": [
    "with torch.no_grad():\n",
    "    inputs = prepare_sequence(training_data[2][0], word_to_ix)\n",
    "    tag_scores = model(inputs)\n",
    "    print(tag_scores)"
   ]
  }
 ],
 "metadata": {
  "kernelspec": {
   "display_name": "Python 3",
   "language": "python",
   "name": "python3"
  },
  "language_info": {
   "codemirror_mode": {
    "name": "ipython",
    "version": 3
   },
   "file_extension": ".py",
   "mimetype": "text/x-python",
   "name": "python",
   "nbconvert_exporter": "python",
   "pygments_lexer": "ipython3",
   "version": "3.8.7"
  }
 },
 "nbformat": 4,
 "nbformat_minor": 5
}
