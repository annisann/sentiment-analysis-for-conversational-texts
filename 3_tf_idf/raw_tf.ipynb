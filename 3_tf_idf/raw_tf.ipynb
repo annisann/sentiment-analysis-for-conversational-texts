{
 "cells": [
  {
   "cell_type": "markdown",
   "id": "received-center",
   "metadata": {},
   "source": [
    "## raw_tf.ipynb\n",
    "code for make raw tf csv file"
   ]
  },
  {
   "cell_type": "code",
   "execution_count": 1,
   "id": "lonely-romania",
   "metadata": {},
   "outputs": [],
   "source": [
    "import pandas as pd"
   ]
  },
  {
   "cell_type": "markdown",
   "id": "vertical-screen",
   "metadata": {},
   "source": [
    "### 1. convert messages into list"
   ]
  },
  {
   "cell_type": "code",
   "execution_count": 2,
   "id": "changing-child",
   "metadata": {},
   "outputs": [],
   "source": [
    "chats_data = pd.read_csv('../2_preprocessing/preprocessing_3_29.csv')"
   ]
  },
  {
   "cell_type": "code",
   "execution_count": 3,
   "id": "banned-calculator",
   "metadata": {},
   "outputs": [
    {
     "data": {
      "text/html": [
       "<div>\n",
       "<style scoped>\n",
       "    .dataframe tbody tr th:only-of-type {\n",
       "        vertical-align: middle;\n",
       "    }\n",
       "\n",
       "    .dataframe tbody tr th {\n",
       "        vertical-align: top;\n",
       "    }\n",
       "\n",
       "    .dataframe thead th {\n",
       "        text-align: right;\n",
       "    }\n",
       "</style>\n",
       "<table border=\"1\" class=\"dataframe\">\n",
       "  <thead>\n",
       "    <tr style=\"text-align: right;\">\n",
       "      <th></th>\n",
       "      <th>messages</th>\n",
       "      <th>sentiment</th>\n",
       "      <th>session_index</th>\n",
       "    </tr>\n",
       "  </thead>\n",
       "  <tbody>\n",
       "    <tr>\n",
       "      <th>0</th>\n",
       "      <td>['selamat', 'pagi', 'mohon', 'maaf', 'ganggu',...</td>\n",
       "      <td>1</td>\n",
       "      <td>0</td>\n",
       "    </tr>\n",
       "    <tr>\n",
       "      <th>1</th>\n",
       "      <td>['alaykumsalam', 'via', 'iya']</td>\n",
       "      <td>1</td>\n",
       "      <td>0</td>\n",
       "    </tr>\n",
       "    <tr>\n",
       "      <th>2</th>\n",
       "      <td>['perihal', 'bimbing', 'tentu', 'jam']</td>\n",
       "      <td>1</td>\n",
       "      <td>0</td>\n",
       "    </tr>\n",
       "    <tr>\n",
       "      <th>3</th>\n",
       "      <td>['kamis', 'jumat']</td>\n",
       "      <td>1</td>\n",
       "      <td>0</td>\n",
       "    </tr>\n",
       "    <tr>\n",
       "      <th>4</th>\n",
       "      <td>['laksana', 'p0', 'tentu', 'bahas', 'bimbing',...</td>\n",
       "      <td>1</td>\n",
       "      <td>0</td>\n",
       "    </tr>\n",
       "    <tr>\n",
       "      <th>5</th>\n",
       "      <td>['bimbing']</td>\n",
       "      <td>1</td>\n",
       "      <td>0</td>\n",
       "    </tr>\n",
       "    <tr>\n",
       "      <th>6</th>\n",
       "      <td>['bimbing']</td>\n",
       "      <td>1</td>\n",
       "      <td>0</td>\n",
       "    </tr>\n",
       "    <tr>\n",
       "      <th>7</th>\n",
       "      <td>['oke', 'p0']</td>\n",
       "      <td>1</td>\n",
       "      <td>0</td>\n",
       "    </tr>\n",
       "    <tr>\n",
       "      <th>8</th>\n",
       "      <td>['p0', 'kamis', 'terima', 'kasih', 'mohon', 'm...</td>\n",
       "      <td>1</td>\n",
       "      <td>0</td>\n",
       "    </tr>\n",
       "    <tr>\n",
       "      <th>9</th>\n",
       "      <td>['mohon', 'maaf', 'ganggu', 'mahasiswa', 'tekn...</td>\n",
       "      <td>1</td>\n",
       "      <td>1</td>\n",
       "    </tr>\n",
       "  </tbody>\n",
       "</table>\n",
       "</div>"
      ],
      "text/plain": [
       "                                            messages  sentiment  session_index\n",
       "0  ['selamat', 'pagi', 'mohon', 'maaf', 'ganggu',...          1              0\n",
       "1                     ['alaykumsalam', 'via', 'iya']          1              0\n",
       "2             ['perihal', 'bimbing', 'tentu', 'jam']          1              0\n",
       "3                                 ['kamis', 'jumat']          1              0\n",
       "4  ['laksana', 'p0', 'tentu', 'bahas', 'bimbing',...          1              0\n",
       "5                                        ['bimbing']          1              0\n",
       "6                                        ['bimbing']          1              0\n",
       "7                                      ['oke', 'p0']          1              0\n",
       "8  ['p0', 'kamis', 'terima', 'kasih', 'mohon', 'm...          1              0\n",
       "9  ['mohon', 'maaf', 'ganggu', 'mahasiswa', 'tekn...          1              1"
      ]
     },
     "execution_count": 3,
     "metadata": {},
     "output_type": "execute_result"
    }
   ],
   "source": [
    "chats_data.head(10)"
   ]
  },
  {
   "cell_type": "code",
   "execution_count": 4,
   "id": "binary-rescue",
   "metadata": {},
   "outputs": [],
   "source": [
    "messages_list = list()\n",
    "for message in chats_data['messages']:\n",
    "    message = message.replace('[', '').replace('\\'', '').replace(']', '')\n",
    "    message_list = message.split(', ')\n",
    "    messages_list.append(message_list)"
   ]
  },
  {
   "cell_type": "code",
   "execution_count": 5,
   "id": "bright-portal",
   "metadata": {},
   "outputs": [
    {
     "name": "stdout",
     "output_type": "stream",
     "text": [
      "total = 1004 chats\n",
      "[['selamat', 'pagi', 'mohon', 'maaf', 'ganggu', 'mahasiswa', 'teknik', 'informatika', 'angkat', 'informasi', 'bimbing', 'skripsi', 'dosen', 'bimbing', 'perihal', 'surat', 'tugas', 'terbit', 'tanggal', 'oktober', 'komunikasi', 'kait', 'kerja', 'skripsi', 'media', 'iya', 'mohon', 'maaf', 'terima', 'kasih', 'wassalamualaikum'], ['alaykumsalam', 'via', 'iya'], ['perihal', 'bimbing', 'tentu', 'jam'], ['kamis', 'jumat'], ['laksana', 'p0', 'tentu', 'bahas', 'bimbing', 'iya']]\n"
     ]
    }
   ],
   "source": [
    "print('total =', len(messages_list), 'chats')\n",
    "print(messages_list[:5])"
   ]
  },
  {
   "cell_type": "markdown",
   "id": "hawaiian-smooth",
   "metadata": {},
   "source": [
    "### 2. make token set list from messages list"
   ]
  },
  {
   "cell_type": "code",
   "execution_count": 6,
   "id": "sharp-disclaimer",
   "metadata": {},
   "outputs": [],
   "source": [
    "token_set_list = list()\n",
    "if messages_list:\n",
    "    for message in messages_list:\n",
    "        for word in message:\n",
    "            if word not in token_set_list:\n",
    "                token_set_list.append(word)"
   ]
  },
  {
   "cell_type": "code",
   "execution_count": 7,
   "id": "novel-legislature",
   "metadata": {},
   "outputs": [
    {
     "name": "stdout",
     "output_type": "stream",
     "text": [
      "total = 1298 unique words\n",
      "['selamat', 'pagi', 'mohon', 'maaf', 'ganggu']\n"
     ]
    }
   ],
   "source": [
    "print('total =', len(token_set_list), 'unique words')\n",
    "print(token_set_list[:5])"
   ]
  },
  {
   "cell_type": "markdown",
   "id": "regulated-provision",
   "metadata": {},
   "source": [
    "### 3. count raw tf each word for each chat"
   ]
  },
  {
   "cell_type": "code",
   "execution_count": 8,
   "id": "cultural-festival",
   "metadata": {},
   "outputs": [],
   "source": [
    "count_all_message = list()\n",
    "for message in messages_list:\n",
    "    count_per_message = list()\n",
    "    for token in token_set_list:\n",
    "        tf_token = message.count(token)\n",
    "        count_per_message.append(tf_token)\n",
    "    count_all_message.append(count_per_message)"
   ]
  },
  {
   "cell_type": "code",
   "execution_count": 9,
   "id": "amended-negotiation",
   "metadata": {},
   "outputs": [
    {
     "name": "stdout",
     "output_type": "stream",
     "text": [
      "total message counted = 1004\n",
      "total word counted each message = 1298\n"
     ]
    }
   ],
   "source": [
    "print('total message counted =', len(count_all_message))\n",
    "print('total word counted each message =', len(count_all_message[-1]))"
   ]
  },
  {
   "cell_type": "markdown",
   "id": "inner-apparatus",
   "metadata": {},
   "source": [
    "### 4. make dataframe for raw tf"
   ]
  },
  {
   "cell_type": "code",
   "execution_count": 10,
   "id": "flying-shoot",
   "metadata": {},
   "outputs": [],
   "source": [
    "result_df = pd.DataFrame({'tokens':token_set_list})\n",
    "for i, count_per_message in enumerate(count_all_message):\n",
    "    column_title = f'chat_{i}'\n",
    "    result_df[column_title] = count_per_message"
   ]
  },
  {
   "cell_type": "markdown",
   "id": "thirty-deadline",
   "metadata": {},
   "source": [
    "### 5. export df to csv"
   ]
  },
  {
   "cell_type": "code",
   "execution_count": 11,
   "id": "graphic-coverage",
   "metadata": {},
   "outputs": [],
   "source": [
    "result_df.to_csv('raw_tf.csv', index=False)"
   ]
  }
 ],
 "metadata": {
  "kernelspec": {
   "display_name": "Python 3",
   "language": "python",
   "name": "python3"
  },
  "language_info": {
   "codemirror_mode": {
    "name": "ipython",
    "version": 3
   },
   "file_extension": ".py",
   "mimetype": "text/x-python",
   "name": "python",
   "nbconvert_exporter": "python",
   "pygments_lexer": "ipython3",
   "version": "3.8.7"
  }
 },
 "nbformat": 4,
 "nbformat_minor": 5
}
